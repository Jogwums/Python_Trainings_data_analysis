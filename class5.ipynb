{
 "cells": [
  {
   "cell_type": "markdown",
   "id": "1c8d2345-262b-43f7-8293-f0a595be7c03",
   "metadata": {},
   "source": [
    "# Python Functions cont'd"
   ]
  },
  {
   "cell_type": "code",
   "execution_count": 1,
   "id": "bfb1d9e5-1855-4a86-8687-548680bad6d0",
   "metadata": {},
   "outputs": [],
   "source": [
    "def addNos(x, y):\n",
    "    result = x + y\n",
    "    return result"
   ]
  },
  {
   "cell_type": "code",
   "execution_count": 3,
   "id": "d2c4c43a-46e1-4291-93ea-4ea9ec7d2bea",
   "metadata": {},
   "outputs": [
    {
     "data": {
      "text/plain": [
       "6"
      ]
     },
     "execution_count": 3,
     "metadata": {},
     "output_type": "execute_result"
    }
   ],
   "source": [
    "addNos(2,4)"
   ]
  },
  {
   "cell_type": "code",
   "execution_count": 4,
   "id": "7a4b9ef3-102d-4564-83e1-4621d053fb95",
   "metadata": {},
   "outputs": [],
   "source": [
    "def subNos(x, y):\n",
    "    result = y - x\n",
    "    return result"
   ]
  },
  {
   "cell_type": "code",
   "execution_count": 5,
   "id": "76c6d871-1d64-4bb2-bede-600e60ecda48",
   "metadata": {},
   "outputs": [
    {
     "data": {
      "text/plain": [
       "3"
      ]
     },
     "execution_count": 5,
     "metadata": {},
     "output_type": "execute_result"
    }
   ],
   "source": [
    "subNos(2,5)"
   ]
  },
  {
   "cell_type": "code",
   "execution_count": 6,
   "id": "5968bb3c-ee27-4850-851a-d02b4c0b823c",
   "metadata": {},
   "outputs": [
    {
     "ename": "TypeError",
     "evalue": "unsupported operand type(s) for +: 'int' and 'str'",
     "output_type": "error",
     "traceback": [
      "\u001b[1;31m---------------------------------------------------------------------------\u001b[0m",
      "\u001b[1;31mTypeError\u001b[0m                                 Traceback (most recent call last)",
      "\u001b[1;32m~\\AppData\\Local\\Temp/ipykernel_20108/3149202178.py\u001b[0m in \u001b[0;36m<module>\u001b[1;34m\u001b[0m\n\u001b[1;32m----> 1\u001b[1;33m \u001b[0maddNos\u001b[0m\u001b[1;33m(\u001b[0m\u001b[1;36m5\u001b[0m\u001b[1;33m,\u001b[0m\u001b[1;34m'james'\u001b[0m\u001b[1;33m)\u001b[0m\u001b[1;33m\u001b[0m\u001b[1;33m\u001b[0m\u001b[0m\n\u001b[0m",
      "\u001b[1;32m~\\AppData\\Local\\Temp/ipykernel_20108/3037293041.py\u001b[0m in \u001b[0;36maddNos\u001b[1;34m(x, y)\u001b[0m\n\u001b[0;32m      1\u001b[0m \u001b[1;32mdef\u001b[0m \u001b[0maddNos\u001b[0m\u001b[1;33m(\u001b[0m\u001b[0mx\u001b[0m\u001b[1;33m,\u001b[0m \u001b[0my\u001b[0m\u001b[1;33m)\u001b[0m\u001b[1;33m:\u001b[0m\u001b[1;33m\u001b[0m\u001b[1;33m\u001b[0m\u001b[0m\n\u001b[1;32m----> 2\u001b[1;33m     \u001b[0mresult\u001b[0m \u001b[1;33m=\u001b[0m \u001b[0mx\u001b[0m \u001b[1;33m+\u001b[0m \u001b[0my\u001b[0m\u001b[1;33m\u001b[0m\u001b[1;33m\u001b[0m\u001b[0m\n\u001b[0m\u001b[0;32m      3\u001b[0m     \u001b[1;32mreturn\u001b[0m \u001b[0mresult\u001b[0m\u001b[1;33m\u001b[0m\u001b[1;33m\u001b[0m\u001b[0m\n",
      "\u001b[1;31mTypeError\u001b[0m: unsupported operand type(s) for +: 'int' and 'str'"
     ]
    }
   ],
   "source": [
    "addNos(5,'james')"
   ]
  },
  {
   "cell_type": "code",
   "execution_count": 7,
   "id": "ea73e600-e52a-4efa-8fa0-4283ad504ac3",
   "metadata": {},
   "outputs": [
    {
     "data": {
      "text/plain": [
       "'jamesjohn'"
      ]
     },
     "execution_count": 7,
     "metadata": {},
     "output_type": "execute_result"
    }
   ],
   "source": [
    "addNos('james','john')"
   ]
  },
  {
   "cell_type": "code",
   "execution_count": 8,
   "id": "adc636e5-c302-4dfe-bd61-6a1d9661749d",
   "metadata": {},
   "outputs": [],
   "source": [
    "def welcome():\n",
    "    print(\"Good morning class!\")"
   ]
  },
  {
   "cell_type": "code",
   "execution_count": 9,
   "id": "161b8b82-32e0-48c4-ab88-342f02ece15b",
   "metadata": {},
   "outputs": [
    {
     "name": "stdout",
     "output_type": "stream",
     "text": [
      "Good morning class!\n"
     ]
    }
   ],
   "source": [
    "welcome()"
   ]
  },
  {
   "cell_type": "markdown",
   "id": "da9d0ae3-e90f-4471-917b-0f834227c6a4",
   "metadata": {},
   "source": [
    "### function with a parameter"
   ]
  },
  {
   "cell_type": "code",
   "execution_count": 10,
   "id": "df606095-36f5-4b57-91cb-6b71efd0d983",
   "metadata": {},
   "outputs": [],
   "source": [
    "def greeting(name):\n",
    "    print(name + \" welcome back!\")"
   ]
  },
  {
   "cell_type": "code",
   "execution_count": 11,
   "id": "8d749826-e12c-4d9f-9e46-0c4f9eb3056d",
   "metadata": {},
   "outputs": [
    {
     "name": "stdout",
     "output_type": "stream",
     "text": [
      "James welcome back!\n"
     ]
    }
   ],
   "source": [
    "greeting('James')"
   ]
  },
  {
   "cell_type": "markdown",
   "id": "f3f4942e-dadc-4136-9522-a68d8bda6c7a",
   "metadata": {},
   "source": [
    "### function with unknown number of parameters"
   ]
  },
  {
   "cell_type": "code",
   "execution_count": 12,
   "id": "84edef7f-1844-4dd4-9adf-26a8341412e3",
   "metadata": {},
   "outputs": [],
   "source": [
    "def my_kids(*kids):\n",
    "    # with the '*' the function will receive a tuple of args\n",
    "    # then access according to the code block\n",
    "    print(\"the last born is \" + kids[1])"
   ]
  },
  {
   "cell_type": "code",
   "execution_count": 14,
   "id": "61a3405c-ef3c-4835-b4c5-256aab64d657",
   "metadata": {},
   "outputs": [
    {
     "name": "stdout",
     "output_type": "stream",
     "text": [
      "the last born is joy\n"
     ]
    }
   ],
   "source": [
    "# run the function\n",
    "\n",
    "my_kids('ola','joy')"
   ]
  },
  {
   "cell_type": "code",
   "execution_count": 16,
   "id": "f019e583-7549-4dcd-9f02-a67d2db8f415",
   "metadata": {},
   "outputs": [],
   "source": [
    "### keyword arguments\n",
    "### requires 'key = value' "
   ]
  },
  {
   "cell_type": "code",
   "execution_count": 17,
   "id": "b9b91c62-ac15-44f9-ad6f-32fa46ce49ff",
   "metadata": {},
   "outputs": [
    {
     "name": "stdout",
     "output_type": "stream",
     "text": [
      "The youngest child is tom\n",
      "The youngest child is jenny\n"
     ]
    }
   ],
   "source": [
    "def my_func(kid1,kid2,kid3):\n",
    "    print(\"The youngest child is \" + kid3)\n",
    "\n",
    "my_func(kid2='ola',kid1='jenny',kid3='tom')\n",
    "\n",
    "my_func('tom','ola','jenny')"
   ]
  },
  {
   "cell_type": "markdown",
   "id": "5635885e-17f9-4235-9f52-7b5ed48ee8b5",
   "metadata": {},
   "source": [
    "### default parameter"
   ]
  },
  {
   "cell_type": "code",
   "execution_count": 18,
   "id": "4e9508ff-21e7-475f-84fd-68648011f2f0",
   "metadata": {},
   "outputs": [],
   "source": [
    "def my_country(country = 'Nigeria'):\n",
    "    print(\"I am from \"+ country)"
   ]
  },
  {
   "cell_type": "code",
   "execution_count": 20,
   "id": "5d03f757-3b57-4a6e-bad3-9139fc58552b",
   "metadata": {},
   "outputs": [
    {
     "name": "stdout",
     "output_type": "stream",
     "text": [
      "I am from Nigeria\n"
     ]
    }
   ],
   "source": [
    "my_country()"
   ]
  },
  {
   "cell_type": "code",
   "execution_count": 21,
   "id": "1b128d10-1a3d-499f-96d7-b41cef296165",
   "metadata": {},
   "outputs": [
    {
     "name": "stdout",
     "output_type": "stream",
     "text": [
      "I am from canada\n"
     ]
    }
   ],
   "source": [
    "my_country('canada')"
   ]
  },
  {
   "cell_type": "markdown",
   "id": "13058df3-7a6d-42f4-86e2-1508105b5be5",
   "metadata": {},
   "source": [
    "### Passing lists as arguments in a function"
   ]
  },
  {
   "cell_type": "code",
   "execution_count": 22,
   "id": "6255d339-9085-418b-a7d0-04ef6f9fc8cf",
   "metadata": {},
   "outputs": [],
   "source": [
    "# Example \n",
    "# Write a function to return the first item in a list "
   ]
  },
  {
   "cell_type": "code",
   "execution_count": 23,
   "id": "fb9e706e-a52f-40ae-b8b3-4e687924882f",
   "metadata": {},
   "outputs": [],
   "source": [
    "fruits = ['apple','grape','orange','lemon']"
   ]
  },
  {
   "cell_type": "code",
   "execution_count": 24,
   "id": "d900d06b-a30e-45c5-9a9d-31af17ce1145",
   "metadata": {},
   "outputs": [],
   "source": [
    "def firstElement(array):\n",
    "    return array[0]"
   ]
  },
  {
   "cell_type": "code",
   "execution_count": 25,
   "id": "a2bd8128-15ce-4f9c-a47b-fa6bc6dd6eef",
   "metadata": {},
   "outputs": [
    {
     "data": {
      "text/plain": [
       "'apple'"
      ]
     },
     "execution_count": 25,
     "metadata": {},
     "output_type": "execute_result"
    }
   ],
   "source": [
    "firstElement(fruits)"
   ]
  },
  {
   "cell_type": "code",
   "execution_count": 26,
   "id": "3dcaaa44-eb94-4daf-b819-4d0945f80eb3",
   "metadata": {},
   "outputs": [],
   "source": [
    "cars = ['benz','toyota','lexus','tesla']"
   ]
  },
  {
   "cell_type": "code",
   "execution_count": 27,
   "id": "673f1215-eecc-403e-b29f-66bd39e3305f",
   "metadata": {},
   "outputs": [
    {
     "data": {
      "text/plain": [
       "'benz'"
      ]
     },
     "execution_count": 27,
     "metadata": {},
     "output_type": "execute_result"
    }
   ],
   "source": [
    "firstElement(cars)"
   ]
  },
  {
   "cell_type": "markdown",
   "id": "e7127031-10ec-4189-b3f5-90929d49adc6",
   "metadata": {},
   "source": [
    "### last element in the list "
   ]
  },
  {
   "cell_type": "code",
   "execution_count": 28,
   "id": "8efdb654-3836-4efe-a17d-34b9b2fa208e",
   "metadata": {},
   "outputs": [
    {
     "data": {
      "text/plain": [
       "'lemon'"
      ]
     },
     "execution_count": 28,
     "metadata": {},
     "output_type": "execute_result"
    }
   ],
   "source": [
    "fruits[-1]"
   ]
  },
  {
   "cell_type": "code",
   "execution_count": 29,
   "id": "82929992-f122-470a-b5a4-62b0749052e5",
   "metadata": {},
   "outputs": [],
   "source": [
    "def lastElement(array):\n",
    "    return array[-1]"
   ]
  },
  {
   "cell_type": "code",
   "execution_count": 30,
   "id": "9d3adef9-38e9-48d4-85e9-8b048096e93e",
   "metadata": {},
   "outputs": [
    {
     "data": {
      "text/plain": [
       "'tesla'"
      ]
     },
     "execution_count": 30,
     "metadata": {},
     "output_type": "execute_result"
    }
   ],
   "source": [
    "lastElement(cars)"
   ]
  },
  {
   "cell_type": "markdown",
   "id": "04207b05-27bb-465a-ac2d-fbfedfffd1f5",
   "metadata": {},
   "source": [
    "## middle element"
   ]
  },
  {
   "cell_type": "code",
   "execution_count": 31,
   "id": "b03efddd-fdbf-427d-ad23-f9faf9a9804b",
   "metadata": {},
   "outputs": [],
   "source": [
    "dogs = ['rot','alsy','cheewy']"
   ]
  },
  {
   "cell_type": "code",
   "execution_count": 40,
   "id": "0f941ec9-0437-40ad-9649-23cf4f7f15cd",
   "metadata": {},
   "outputs": [
    {
     "name": "stdout",
     "output_type": "stream",
     "text": [
      "4\n",
      "List is even, therefore no middle number\n"
     ]
    }
   ],
   "source": [
    "def middleElement(array):\n",
    "    no_elements = len(array)\n",
    "    print(no_elements)\n",
    "    if no_elements % 2 == 0:\n",
    "        print(\"List is even, therefore no middle number\")\n",
    "    if no_elements % 2 == 1:\n",
    "        print('array is odd')\n",
    "        mid = int((no_elements / 2) - 0.5)\n",
    "        print(array[mid])\n",
    "middleElement(fruits)"
   ]
  },
  {
   "cell_type": "markdown",
   "id": "78375796-754f-4e5b-8861-751d19fb9bfa",
   "metadata": {},
   "source": [
    "### local scope and global scope"
   ]
  },
  {
   "cell_type": "code",
   "execution_count": 41,
   "id": "0073c088-9737-4ae0-b5f5-070a5930bee7",
   "metadata": {},
   "outputs": [],
   "source": [
    "# when you write functions variables used in the functions \n",
    "# can be of local or global scope "
   ]
  },
  {
   "cell_type": "code",
   "execution_count": 43,
   "id": "ce23dab2-03bd-4ca6-ba1f-0c2d043acfca",
   "metadata": {},
   "outputs": [
    {
     "name": "stdout",
     "output_type": "stream",
     "text": [
      "Jane\n",
      "Joy\n"
     ]
    }
   ],
   "source": [
    "# Example\n",
    "\n",
    "name = 'Joy' # global scope\n",
    "\n",
    "def writeName():\n",
    "    name = \"Jane\" # local scope\n",
    "    print(name)\n",
    "\n",
    "writeName()\n",
    "print(name)"
   ]
  },
  {
   "cell_type": "code",
   "execution_count": 45,
   "id": "3aa089a1-8373-40b8-be9a-8c8820093e6c",
   "metadata": {},
   "outputs": [
    {
     "name": "stdout",
     "output_type": "stream",
     "text": [
      "50\n"
     ]
    }
   ],
   "source": [
    "# Example\n",
    "# local scope \n",
    "def func():\n",
    "    x = 50\n",
    "    print(x)\n",
    "\n",
    "func()"
   ]
  },
  {
   "cell_type": "code",
   "execution_count": 46,
   "id": "5060dedd-e984-46b2-96c1-83ad70654956",
   "metadata": {},
   "outputs": [
    {
     "ename": "NameError",
     "evalue": "name 'x' is not defined",
     "output_type": "error",
     "traceback": [
      "\u001b[1;31m---------------------------------------------------------------------------\u001b[0m",
      "\u001b[1;31mNameError\u001b[0m                                 Traceback (most recent call last)",
      "\u001b[1;32m~\\AppData\\Local\\Temp/ipykernel_20108/1353120783.py\u001b[0m in \u001b[0;36m<module>\u001b[1;34m\u001b[0m\n\u001b[1;32m----> 1\u001b[1;33m \u001b[0mprint\u001b[0m\u001b[1;33m(\u001b[0m\u001b[0mx\u001b[0m\u001b[1;33m)\u001b[0m\u001b[1;33m\u001b[0m\u001b[1;33m\u001b[0m\u001b[0m\n\u001b[0m",
      "\u001b[1;31mNameError\u001b[0m: name 'x' is not defined"
     ]
    }
   ],
   "source": [
    "print(x)"
   ]
  },
  {
   "cell_type": "markdown",
   "id": "e3168ed7-c9e9-479a-8c38-f4fcc6f07ce4",
   "metadata": {},
   "source": [
    "# Practice Questions"
   ]
  },
  {
   "cell_type": "markdown",
   "id": "718e7063-b75a-4d83-ab6e-8a3db3c46e3a",
   "metadata": {},
   "source": [
    "1. Write a function to:\n",
    "    - sum all the numbers in a list \n",
    "    \n",
    "    - find the maximum of 3 numbers \n",
    "    \n",
    "    - reverse a string \n",
    "    "
   ]
  },
  {
   "cell_type": "markdown",
   "id": "0d1c5763-50a4-4496-9602-0f2743748074",
   "metadata": {},
   "source": [
    "# Assignment\n",
    "\n",
    "2. Write a function to:\n",
    "    - convert naira to dollar\n",
    "    \n",
    "    - convert celcius to farenheit\n",
    "    \n",
    "    - find the simple interest on a loan amount \n",
    "        - S.I = PRT/100 where P=principal, R=rate, T=time"
   ]
  },
  {
   "cell_type": "markdown",
   "id": "cb6a3684-dc38-4bac-bef5-4558da814136",
   "metadata": {},
   "source": [
    "# Solution"
   ]
  },
  {
   "cell_type": "code",
   "execution_count": 48,
   "id": "ed0809d0-9ed3-4745-8c64-32409d697aa2",
   "metadata": {},
   "outputs": [],
   "source": [
    "# sum all the numbers in alist "
   ]
  },
  {
   "cell_type": "code",
   "execution_count": 58,
   "id": "7f583daf-f92c-4b93-ac26-7884ec4b651e",
   "metadata": {},
   "outputs": [],
   "source": [
    "def sumAll(arr):\n",
    "    # print(arr)\n",
    "    # print(sum(arr))\n",
    "    result = sum(arr)\n",
    "    return result"
   ]
  },
  {
   "cell_type": "code",
   "execution_count": 59,
   "id": "f9cd09c3-6074-4f07-8463-46d9131b63aa",
   "metadata": {},
   "outputs": [
    {
     "data": {
      "text/plain": [
       "9"
      ]
     },
     "execution_count": 59,
     "metadata": {},
     "output_type": "execute_result"
    }
   ],
   "source": [
    "sumAll([2,3,4])"
   ]
  },
  {
   "cell_type": "code",
   "execution_count": 60,
   "id": "26d6065b-af09-486b-9fc5-efe67854be6c",
   "metadata": {},
   "outputs": [],
   "source": [
    "# find the maximum of 3 numbers"
   ]
  },
  {
   "cell_type": "code",
   "execution_count": 61,
   "id": "1549e16b-cf70-4d9f-bf06-f8b1e8e01bd5",
   "metadata": {},
   "outputs": [],
   "source": [
    "def maxNos(no1,no2,no3):\n",
    "    grp = [no1,no2,no3]\n",
    "    result = max(grp)\n",
    "    return result"
   ]
  },
  {
   "cell_type": "code",
   "execution_count": 64,
   "id": "365b468a-6c1c-4229-9102-67e9f07cb74a",
   "metadata": {},
   "outputs": [
    {
     "name": "stdout",
     "output_type": "stream",
     "text": [
      "7\n",
      "21\n"
     ]
    }
   ],
   "source": [
    "print(maxNos(2,4,7))\n",
    "print(maxNos(21,4,2))"
   ]
  },
  {
   "cell_type": "code",
   "execution_count": 65,
   "id": "dd369e2e-6d38-48c4-948b-cec707d466b2",
   "metadata": {},
   "outputs": [],
   "source": [
    "# reverse a string "
   ]
  },
  {
   "cell_type": "code",
   "execution_count": 67,
   "id": "67893373-7c0c-4050-90a5-1ceb82f6f4fb",
   "metadata": {},
   "outputs": [],
   "source": [
    "name = 'James'\n",
    "\n",
    "def reverseStr(x):\n",
    "    return x[::-1]"
   ]
  },
  {
   "cell_type": "code",
   "execution_count": 68,
   "id": "675a1256-4da9-4dac-ab14-5a111ed5e6bf",
   "metadata": {},
   "outputs": [
    {
     "data": {
      "text/plain": [
       "'semaJ'"
      ]
     },
     "execution_count": 68,
     "metadata": {},
     "output_type": "execute_result"
    }
   ],
   "source": [
    "reverseStr(name)"
   ]
  },
  {
   "cell_type": "code",
   "execution_count": null,
   "id": "bd12183e-0c41-4fba-a910-15dde83d3f75",
   "metadata": {},
   "outputs": [],
   "source": [
    "fruits."
   ]
  }
 ],
 "metadata": {
  "kernelspec": {
   "display_name": "Python 3 (ipykernel)",
   "language": "python",
   "name": "python3"
  },
  "language_info": {
   "codemirror_mode": {
    "name": "ipython",
    "version": 3
   },
   "file_extension": ".py",
   "mimetype": "text/x-python",
   "name": "python",
   "nbconvert_exporter": "python",
   "pygments_lexer": "ipython3",
   "version": "3.9.7"
  }
 },
 "nbformat": 4,
 "nbformat_minor": 5
}
