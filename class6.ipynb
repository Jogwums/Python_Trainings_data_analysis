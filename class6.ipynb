{
 "cells": [
  {
   "cell_type": "markdown",
   "id": "afb06467-7c69-421a-818b-123e3c99b16c",
   "metadata": {},
   "source": [
    "# control structures"
   ]
  },
  {
   "cell_type": "markdown",
   "id": "5792fd70-8de7-43b0-be58-021f713e239f",
   "metadata": {},
   "source": [
    "### if statements and loops"
   ]
  },
  {
   "cell_type": "markdown",
   "id": "c591c948-96ee-4c50-9a8e-48a00d504025",
   "metadata": {},
   "source": [
    "# logical operators \n",
    "# greater than >\n",
    "# less than <\n",
    "# equal to ==\n",
    "# not equal !=\n",
    "# less than or equal <=\n",
    "# greater than or equal >=\n"
   ]
  },
  {
   "cell_type": "code",
   "execution_count": 1,
   "id": "13e801f8-7ef7-4cff-9b1a-832e2da97d2d",
   "metadata": {},
   "outputs": [],
   "source": [
    "# if keyword is used in combination \n",
    "# with the above operators"
   ]
  },
  {
   "cell_type": "code",
   "execution_count": 1,
   "id": "137debdf-3a1b-4e22-84fd-cb70bcfacd89",
   "metadata": {},
   "outputs": [
    {
     "name": "stdout",
     "output_type": "stream",
     "text": [
      "False\n"
     ]
    }
   ],
   "source": [
    "a = 4\n",
    "b = 7\n",
    "print(a == b)"
   ]
  },
  {
   "cell_type": "code",
   "execution_count": 2,
   "id": "ed89f540-5cd2-469c-a5b1-ba2a1e3b9034",
   "metadata": {},
   "outputs": [
    {
     "name": "stdout",
     "output_type": "stream",
     "text": [
      "False\n"
     ]
    }
   ],
   "source": [
    "print(a > b)"
   ]
  },
  {
   "cell_type": "code",
   "execution_count": 3,
   "id": "3f8436b7-ba2c-4332-8bb6-9c0f24b44e6f",
   "metadata": {},
   "outputs": [],
   "source": [
    "# syntax\n",
    "# if condition:\n",
    "#        code to be run "
   ]
  },
  {
   "cell_type": "code",
   "execution_count": 4,
   "id": "e3ec1fb6-7de8-4bcd-b511-82bac0012520",
   "metadata": {},
   "outputs": [],
   "source": [
    "# if else \n",
    "# if condition:\n",
    "#        code if true \n",
    "#  else:\n",
    "#        code if flase"
   ]
  },
  {
   "cell_type": "code",
   "execution_count": 5,
   "id": "65fe626b-ff9b-46ee-847e-7d7589c09ed7",
   "metadata": {},
   "outputs": [
    {
     "name": "stdout",
     "output_type": "stream",
     "text": [
      "b is greater than a\n"
     ]
    }
   ],
   "source": [
    "if b > a:\n",
    "    print(\"b is greater than a\")"
   ]
  },
  {
   "cell_type": "code",
   "execution_count": 6,
   "id": "22ff0dca-bd09-4456-a87c-c961c167b544",
   "metadata": {},
   "outputs": [],
   "source": [
    "if a > b:\n",
    "    print(\"a is greater than b\")"
   ]
  },
  {
   "cell_type": "code",
   "execution_count": 7,
   "id": "faed4728-62a0-4b96-bf0e-f7b2a73b0d09",
   "metadata": {},
   "outputs": [],
   "source": [
    "# in line 5 the result is true so the print statement runs\n",
    "# in line 6 the result is false so nothing is printed"
   ]
  },
  {
   "cell_type": "code",
   "execution_count": 8,
   "id": "36a9b8df-54e8-45c0-8b23-43794ecc96d4",
   "metadata": {},
   "outputs": [
    {
     "name": "stdout",
     "output_type": "stream",
     "text": [
      "b is greater than a \n"
     ]
    }
   ],
   "source": [
    "# if/else\n",
    "\n",
    "if a > b:\n",
    "    print(\"a is greater than b\")\n",
    "else:\n",
    "    print(\"b is greater than a \")"
   ]
  },
  {
   "cell_type": "code",
   "execution_count": 9,
   "id": "b054d2e9-3eee-4f11-a008-ed52be69386d",
   "metadata": {},
   "outputs": [],
   "source": [
    "# to test another condition use elif"
   ]
  },
  {
   "cell_type": "code",
   "execution_count": 11,
   "id": "361c2bd0-8bf1-4cab-a494-8125e7d6970d",
   "metadata": {},
   "outputs": [
    {
     "name": "stdout",
     "output_type": "stream",
     "text": [
      "they are equal\n"
     ]
    }
   ],
   "source": [
    "a = 7\n",
    "b = 7\n",
    "\n",
    "if a > b:\n",
    "    print(\"a is greater than b\")\n",
    "elif a == b:\n",
    "    print(\"they are equal\")\n",
    "else:\n",
    "    print(\"b is greater\")"
   ]
  },
  {
   "cell_type": "code",
   "execution_count": null,
   "id": "43f2d87d-ccc0-452b-a859-00690727432f",
   "metadata": {},
   "outputs": [],
   "source": []
  },
  {
   "cell_type": "markdown",
   "id": "5055e478-ff59-434a-a90d-af856d188d10",
   "metadata": {},
   "source": [
    "# Exercise\n",
    "\n",
    "### Greet a user based on the current time in the day "
   ]
  },
  {
   "cell_type": "code",
   "execution_count": 12,
   "id": "92f6d6f9-2f76-4c50-832f-0bfe1ff69a36",
   "metadata": {},
   "outputs": [],
   "source": [
    "# inbuilt modules can simply be imported \n",
    "# import modulename\n",
    "# or \n",
    "# import modulename as alias"
   ]
  },
  {
   "cell_type": "code",
   "execution_count": 2,
   "id": "7c0dc028-40b5-4984-9015-34d71999f8b2",
   "metadata": {},
   "outputs": [],
   "source": [
    "import datetime "
   ]
  },
  {
   "cell_type": "code",
   "execution_count": 3,
   "id": "67f333a8-3cc2-4787-a7f8-36f500450797",
   "metadata": {},
   "outputs": [
    {
     "name": "stdout",
     "output_type": "stream",
     "text": [
      "['MAXYEAR', 'MINYEAR', '__all__', '__builtins__', '__cached__', '__doc__', '__file__', '__loader__', '__name__', '__package__', '__spec__', 'date', 'datetime', 'datetime_CAPI', 'sys', 'time', 'timedelta', 'timezone', 'tzinfo']\n"
     ]
    }
   ],
   "source": [
    "print(dir(datetime))"
   ]
  },
  {
   "cell_type": "code",
   "execution_count": 4,
   "id": "eb6d2822-b4b9-47d6-af15-cc7e23768d91",
   "metadata": {},
   "outputs": [
    {
     "data": {
      "text/plain": [
       "datetime.datetime(2022, 5, 24, 17, 54, 12, 35257)"
      ]
     },
     "execution_count": 4,
     "metadata": {},
     "output_type": "execute_result"
    }
   ],
   "source": [
    "datetime.datetime.now()"
   ]
  },
  {
   "cell_type": "code",
   "execution_count": 5,
   "id": "795d4d99-a970-4752-a87d-de002c9221ed",
   "metadata": {},
   "outputs": [
    {
     "name": "stdout",
     "output_type": "stream",
     "text": [
      "17:54:14\n"
     ]
    }
   ],
   "source": [
    "now = datetime.datetime.now()\n",
    "currentTime = now.strftime(\"%H:%M:%S\")\n",
    "print(currentTime)"
   ]
  },
  {
   "cell_type": "code",
   "execution_count": 6,
   "id": "ee902b78-dc1e-4b15-abea-5912fde285f0",
   "metadata": {},
   "outputs": [
    {
     "name": "stdout",
     "output_type": "stream",
     "text": [
      "2022\n"
     ]
    }
   ],
   "source": [
    "print(now.year)"
   ]
  },
  {
   "cell_type": "code",
   "execution_count": 7,
   "id": "d0260612-fe66-4298-8bb7-8332da793011",
   "metadata": {},
   "outputs": [
    {
     "name": "stdout",
     "output_type": "stream",
     "text": [
      "17\n"
     ]
    }
   ],
   "source": [
    "print(now.hour)"
   ]
  },
  {
   "cell_type": "code",
   "execution_count": 10,
   "id": "86650849-b2dc-49ad-8bc5-2b08881fc4b8",
   "metadata": {},
   "outputs": [
    {
     "name": "stdout",
     "output_type": "stream",
     "text": [
      "Hello good evening\n"
     ]
    }
   ],
   "source": [
    "def greet():\n",
    "    now = datetime.datetime.now()\n",
    "    currentHour = now.hour\n",
    "    msg = \"Hello \"\n",
    "    msg2 = \"\"\n",
    "    \n",
    "    # check the time of day\n",
    "    if currentHour < 12:\n",
    "        msg2 = \"good morning\"\n",
    "    elif currentHour < 17:\n",
    "        msg2 = \"good afternoon\"\n",
    "    else:\n",
    "        msg2 = \"good evening\"\n",
    "    \n",
    "    result = msg + msg2\n",
    "    \n",
    "    print(result)                \n",
    "\n",
    "greet()"
   ]
  },
  {
   "cell_type": "code",
   "execution_count": 11,
   "id": "dd3b9ec2-b0ca-406e-9c3f-f03b82cd5053",
   "metadata": {},
   "outputs": [
    {
     "name": "stdout",
     "output_type": "stream",
     "text": [
      "Hello good evening\n"
     ]
    }
   ],
   "source": [
    "greet()"
   ]
  },
  {
   "cell_type": "code",
   "execution_count": null,
   "id": "6fc7133d-8c79-47b3-81a5-c154cc2fc457",
   "metadata": {},
   "outputs": [],
   "source": []
  },
  {
   "cell_type": "code",
   "execution_count": null,
   "id": "117aadca",
   "metadata": {},
   "outputs": [],
   "source": []
  }
 ],
 "metadata": {
  "kernelspec": {
   "display_name": "Python 3.10.6 64-bit",
   "language": "python",
   "name": "python3"
  },
  "language_info": {
   "codemirror_mode": {
    "name": "ipython",
    "version": 3
   },
   "file_extension": ".py",
   "mimetype": "text/x-python",
   "name": "python",
   "nbconvert_exporter": "python",
   "pygments_lexer": "ipython3",
   "version": "3.10.6"
  },
  "vscode": {
   "interpreter": {
    "hash": "8c9ae526718dfd6da3fbc835d39385f8c1c511d4c199b35eb98b0e568f9665fd"
   }
  }
 },
 "nbformat": 4,
 "nbformat_minor": 5
}
