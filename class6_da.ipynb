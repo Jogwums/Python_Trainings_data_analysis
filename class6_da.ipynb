{
 "cells": [
  {
   "cell_type": "markdown",
   "id": "c61f3ba9-5b85-4b47-87e4-8329844d555b",
   "metadata": {},
   "source": [
    "# Intro to Python Data Analysis"
   ]
  },
  {
   "cell_type": "markdown",
   "id": "d390b616-778b-47ab-b289-203d43bd4db2",
   "metadata": {},
   "source": [
    "## definition "
   ]
  },
  {
   "cell_type": "markdown",
   "id": "3bf9453a-3d85-416a-9726-81ea4be5a569",
   "metadata": {},
   "source": [
    "it is a process of cleaning, transforming and modelling data using statistical methods and analytical tools to derive insights, discover information for business decision-making"
   ]
  },
  {
   "cell_type": "markdown",
   "id": "dc980d60-bec8-4f4a-a72c-6c4005eb4833",
   "metadata": {},
   "source": [
    "### python libraries used for DA"
   ]
  },
  {
   "cell_type": "markdown",
   "id": "db3ff18d-156a-40b1-88b2-271c02089f9b",
   "metadata": {},
   "source": [
    "#### Numpy - Numerical Python"
   ]
  },
  {
   "cell_type": "markdown",
   "id": "bbda6801-43a7-4986-b8f1-1e5e42bf53d9",
   "metadata": {},
   "source": [
    "#### Pandas - Python for Data Analysis"
   ]
  },
  {
   "cell_type": "markdown",
   "id": "e89728ca-ff4d-4fda-bd16-320742126b64",
   "metadata": {},
   "source": [
    "#### Scipy - Scientific Python"
   ]
  },
  {
   "cell_type": "markdown",
   "id": "81ab6b82-6f70-4a87-82cd-869972f2bd47",
   "metadata": {},
   "source": [
    "#### Plotting libraries \n",
    "\n",
    "- Matplotlib\n",
    "\n",
    "- Seaborn\n",
    "\n",
    "- Plotly"
   ]
  },
  {
   "cell_type": "markdown",
   "id": "68428331-586a-43b1-a739-84ef1d619d46",
   "metadata": {},
   "source": [
    "#### Machine Learning\n",
    "\n",
    "- scikit learn\n",
    "\n",
    "- keras \n",
    "\n",
    "- tensorflow\n"
   ]
  },
  {
   "cell_type": "markdown",
   "id": "b77c66c4-6716-44e8-acc2-f319fa2e736a",
   "metadata": {},
   "source": [
    "#### Dashboarding \n",
    "\n",
    "- Hvplot\n",
    "\n",
    "- Dash\n",
    "\n",
    "- Streamlit"
   ]
  },
  {
   "cell_type": "code",
   "execution_count": null,
   "id": "5c2d8570-9665-41a9-8482-ca4746f778e4",
   "metadata": {},
   "outputs": [],
   "source": []
  }
 ],
 "metadata": {
  "kernelspec": {
   "display_name": "Python 3 (ipykernel)",
   "language": "python",
   "name": "python3"
  },
  "language_info": {
   "codemirror_mode": {
    "name": "ipython",
    "version": 3
   },
   "file_extension": ".py",
   "mimetype": "text/x-python",
   "name": "python",
   "nbconvert_exporter": "python",
   "pygments_lexer": "ipython3",
   "version": "3.9.7"
  }
 },
 "nbformat": 4,
 "nbformat_minor": 5
}
