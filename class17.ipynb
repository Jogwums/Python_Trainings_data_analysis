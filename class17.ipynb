{
 "cells": [
  {
   "cell_type": "markdown",
   "id": "620252fb-f770-4c89-87ab-9f832b1a5022",
   "metadata": {},
   "source": [
    "# Normalization \n",
    "\n",
    "### Standardization and Scaling "
   ]
  },
  {
   "cell_type": "code",
   "execution_count": 2,
   "id": "87cc18f4-d53d-4097-957d-02d4916ce49d",
   "metadata": {},
   "outputs": [
    {
     "name": "stdout",
     "output_type": "stream",
     "text": [
      "Ready\n"
     ]
    }
   ],
   "source": [
    "# setup environment\n",
    "import numpy as np\n",
    "import pandas as pd\n",
    "import matplotlib.pyplot as plt\n",
    "\n",
    "import sklearn\n",
    "\n",
    "%matplotlib inline\n",
    "\n",
    "print(\"Ready\")"
   ]
  },
  {
   "cell_type": "code",
   "execution_count": 3,
   "id": "9f2f224e-a702-4679-8f26-d62557b6d714",
   "metadata": {},
   "outputs": [],
   "source": [
    "df = pd.DataFrame({\n",
    "    'Score1': [62,-47,-55,74,31,77,85,63,42,\n",
    "              67,89,81,56],\n",
    "    'Score2': [1062,-1047,-12555,20074,40031,\n",
    "              1077,1185,163,4222,3467,8889,\n",
    "              10081,5656]},\n",
    "    columns=['Score1', 'Score2'])"
   ]
  },
  {
   "cell_type": "code",
   "execution_count": 5,
   "id": "72ff6720-b864-45f9-86f6-ddf1a00f10cf",
   "metadata": {},
   "outputs": [
    {
     "data": {
      "text/html": [
       "<div>\n",
       "<style scoped>\n",
       "    .dataframe tbody tr th:only-of-type {\n",
       "        vertical-align: middle;\n",
       "    }\n",
       "\n",
       "    .dataframe tbody tr th {\n",
       "        vertical-align: top;\n",
       "    }\n",
       "\n",
       "    .dataframe thead th {\n",
       "        text-align: right;\n",
       "    }\n",
       "</style>\n",
       "<table border=\"1\" class=\"dataframe\">\n",
       "  <thead>\n",
       "    <tr style=\"text-align: right;\">\n",
       "      <th></th>\n",
       "      <th>Score1</th>\n",
       "      <th>Score2</th>\n",
       "    </tr>\n",
       "  </thead>\n",
       "  <tbody>\n",
       "    <tr>\n",
       "      <th>0</th>\n",
       "      <td>62</td>\n",
       "      <td>1062</td>\n",
       "    </tr>\n",
       "    <tr>\n",
       "      <th>1</th>\n",
       "      <td>-47</td>\n",
       "      <td>-1047</td>\n",
       "    </tr>\n",
       "    <tr>\n",
       "      <th>2</th>\n",
       "      <td>-55</td>\n",
       "      <td>-12555</td>\n",
       "    </tr>\n",
       "  </tbody>\n",
       "</table>\n",
       "</div>"
      ],
      "text/plain": [
       "   Score1  Score2\n",
       "0      62    1062\n",
       "1     -47   -1047\n",
       "2     -55  -12555"
      ]
     },
     "execution_count": 5,
     "metadata": {},
     "output_type": "execute_result"
    }
   ],
   "source": [
    "df.head(3)"
   ]
  },
  {
   "cell_type": "code",
   "execution_count": 6,
   "id": "5e628a32-e61d-4d49-a63b-c9bd6f6ef590",
   "metadata": {},
   "outputs": [
    {
     "data": {
      "text/plain": [
       "<AxesSubplot:>"
      ]
     },
     "execution_count": 6,
     "metadata": {},
     "output_type": "execute_result"
    },
    {
     "data": {
      "image/png": "[encoded data removed]",
      "text/plain": [
       "<Figure size 432x288 with 1 Axes>"
      ]
     },
     "metadata": {
      "needs_background": "light"
     },
     "output_type": "display_data"
    }
   ],
   "source": [
    "df.plot(kind='bar')"
   ]
  },
  {
   "cell_type": "markdown",
   "id": "d12b88eb-c817-4f1c-a130-384cc8b0683f",
   "metadata": {},
   "source": [
    "Normalization is useful in the following cases:\n",
    "    \n",
    "    - you do not know the distribution of the data\n",
    "    - you know that your data is not a Gaussian distribution\n",
    "    - your data has varying scales \n",
    "    - your algorithm assumes normality\n",
    "    - your model is centered around the mean and requires standard variance"
   ]
  },
  {
   "cell_type": "code",
   "execution_count": 8,
   "id": "f5c7cafc-0857-4aaa-a6a8-445222c8262e",
   "metadata": {},
   "outputs": [
    {
     "data": {
      "image/png": "[encoded data removed]",
      "text/plain": [
       "<Figure size 432x288 with 1 Axes>"
      ]
     },
     "metadata": {
      "needs_background": "light"
     },
     "output_type": "display_data"
    }
   ],
   "source": [
    "# guassian dist \n",
    "sample = np.random.normal(0,0.1,1000)\n",
    "\n",
    "plt.hist(sample)\n",
    "plt.show()"
   ]
  },
  {
   "cell_type": "code",
   "execution_count": 9,
   "id": "bc888876-0306-430e-9095-9d8d0a680c4d",
   "metadata": {},
   "outputs": [],
   "source": [
    "# from the bar plot of Score1 and Score 2 \n",
    "# we see that the ranges are different, with \n",
    "# the scale of score2 \n",
    "# completely drowning out Score1 details  "
   ]
  },
  {
   "cell_type": "code",
   "execution_count": 10,
   "id": "922f1726-6acb-4555-88b6-26b3679e23cf",
   "metadata": {},
   "outputs": [],
   "source": [
    "### looking at the scores individually "
   ]
  },
  {
   "cell_type": "code",
   "execution_count": 14,
   "id": "dc6a5da7-dc9d-4d06-9442-eec43e869908",
   "metadata": {},
   "outputs": [
    {
     "data": {
      "text/plain": [
       "<AxesSubplot:ylabel='Frequency'>"
      ]
     },
     "execution_count": 14,
     "metadata": {},
     "output_type": "execute_result"
    },
    {
     "data": {
      "image/png": "[encoded data removed]",
      "text/plain": [
       "<Figure size 432x288 with 1 Axes>"
      ]
     },
     "metadata": {
      "needs_background": "light"
     },
     "output_type": "display_data"
    }
   ],
   "source": [
    "df.Score1.plot(kind='hist')"
   ]
  },
  {
   "cell_type": "code",
   "execution_count": 13,
   "id": "d9658771-79aa-4d2a-98f1-5e425bbf68c8",
   "metadata": {},
   "outputs": [
    {
     "data": {
      "text/plain": [
       "<AxesSubplot:ylabel='Frequency'>"
      ]
     },
     "execution_count": 13,
     "metadata": {},
     "output_type": "execute_result"
    },
    {
     "data": {
      "image/png": "[encoded data removed]",
      "text/plain": [
       "<Figure size 432x288 with 1 Axes>"
      ]
     },
     "metadata": {
      "needs_background": "light"
     },
     "output_type": "display_data"
    }
   ],
   "source": [
    "df.Score2.plot(kind='hist')"
   ]
  },
  {
   "cell_type": "markdown",
   "id": "9d26316f-9d5d-4fa7-aafa-3b70a84fc016",
   "metadata": {},
   "source": [
    "### to standardize manually"
   ]
  },
  {
   "cell_type": "code",
   "execution_count": 15,
   "id": "5f0263d4-fc07-46fd-b521-5622290a5ee2",
   "metadata": {},
   "outputs": [],
   "source": [
    "# formular \n",
    "#\n",
    "# z = x - u / S.D\n",
    "#\n",
    "# z = scaled value \n",
    "# x = feature \n",
    "# u = mean \n",
    "# S.D = stadard Deviation "
   ]
  },
  {
   "cell_type": "code",
   "execution_count": 16,
   "id": "b15d7b8f-54a5-4ccc-a01c-93430b517872",
   "metadata": {},
   "outputs": [],
   "source": [
    "# create a function to rescale \n",
    "def zscore_norm(x,u,std):\n",
    "    z = (x-u)/std\n",
    "    return z"
   ]
  },
  {
   "cell_type": "code",
   "execution_count": 17,
   "id": "9b282328-ea58-4b8f-9c28-c82a39549177",
   "metadata": {},
   "outputs": [
    {
     "name": "stdout",
     "output_type": "stream",
     "text": [
      "mean:  48.07692307692308 \n",
      " S.D:  46.958246592871454\n"
     ]
    }
   ],
   "source": [
    "# find the mean and S.D for each column \n",
    "\n",
    "Score1_mean = df.Score1.mean()\n",
    "Score1_std = df.Score1.std()\n",
    "\n",
    "print(\"mean: \", Score1_mean,'\\n',\"S.D: \",\n",
    "     Score1_std)"
   ]
  },
  {
   "cell_type": "code",
   "execution_count": 18,
   "id": "e11662a0-98f0-42ff-a5c0-ad4a4fbf8a1a",
   "metadata": {},
   "outputs": [
    {
     "name": "stdout",
     "output_type": "stream",
     "text": [
      "mean:  6331.153846153846 \n",
      " S.D:  12547.510416055675\n"
     ]
    }
   ],
   "source": [
    "# Score 2\n",
    "Score2_mean = df.Score2.mean()\n",
    "Score2_std = df.Score2.std()\n",
    "\n",
    "print(\"mean: \", Score2_mean,'\\n',\"S.D: \",\n",
    "     Score2_std)"
   ]
  },
  {
   "cell_type": "code",
   "execution_count": 19,
   "id": "83ee4964-5b57-45fe-8b33-b19dbe63df14",
   "metadata": {},
   "outputs": [],
   "source": [
    "### Apply the zscore function "
   ]
  },
  {
   "cell_type": "code",
   "execution_count": 20,
   "id": "1ce1d3c4-3393-4f3d-b065-75a0a42e738d",
   "metadata": {},
   "outputs": [],
   "source": [
    "df[\"Score1_z\"] = zscore_norm(df.Score1, Score1_mean, Score1_std)"
   ]
  },
  {
   "cell_type": "code",
   "execution_count": 21,
   "id": "3897995a-c970-4441-b13b-fe2315ad7657",
   "metadata": {},
   "outputs": [],
   "source": [
    "df[\"Score2_z\"] = zscore_norm(df.Score2, Score2_mean, Score2_std)"
   ]
  },
  {
   "cell_type": "code",
   "execution_count": 22,
   "id": "380a8431-3216-4db8-838d-f4989ed9bb8b",
   "metadata": {},
   "outputs": [
    {
     "data": {
      "text/html": [
       "<div>\n",
       "<style scoped>\n",
       "    .dataframe tbody tr th:only-of-type {\n",
       "        vertical-align: middle;\n",
       "    }\n",
       "\n",
       "    .dataframe tbody tr th {\n",
       "        vertical-align: top;\n",
       "    }\n",
       "\n",
       "    .dataframe thead th {\n",
       "        text-align: right;\n",
       "    }\n",
       "</style>\n",
       "<table border=\"1\" class=\"dataframe\">\n",
       "  <thead>\n",
       "    <tr style=\"text-align: right;\">\n",
       "      <th></th>\n",
       "      <th>Score1</th>\n",
       "      <th>Score2</th>\n",
       "      <th>Score1_z</th>\n",
       "      <th>Score2_z</th>\n",
       "    </tr>\n",
       "  </thead>\n",
       "  <tbody>\n",
       "    <tr>\n",
       "      <th>0</th>\n",
       "      <td>62</td>\n",
       "      <td>1062</td>\n",
       "      <td>0.296499</td>\n",
       "      <td>-0.419936</td>\n",
       "    </tr>\n",
       "    <tr>\n",
       "      <th>1</th>\n",
       "      <td>-47</td>\n",
       "      <td>-1047</td>\n",
       "      <td>-2.024712</td>\n",
       "      <td>-0.588017</td>\n",
       "    </tr>\n",
       "    <tr>\n",
       "      <th>2</th>\n",
       "      <td>-55</td>\n",
       "      <td>-12555</td>\n",
       "      <td>-2.195076</td>\n",
       "      <td>-1.505171</td>\n",
       "    </tr>\n",
       "  </tbody>\n",
       "</table>\n",
       "</div>"
      ],
      "text/plain": [
       "   Score1  Score2  Score1_z  Score2_z\n",
       "0      62    1062  0.296499 -0.419936\n",
       "1     -47   -1047 -2.024712 -0.588017\n",
       "2     -55  -12555 -2.195076 -1.505171"
      ]
     },
     "execution_count": 22,
     "metadata": {},
     "output_type": "execute_result"
    }
   ],
   "source": [
    "df.head(3)"
   ]
  },
  {
   "cell_type": "code",
   "execution_count": 25,
   "id": "2f07458d-fd83-443b-9cd3-a4ddeb0a4ab4",
   "metadata": {},
   "outputs": [
    {
     "data": {
      "text/plain": [
       "<AxesSubplot:>"
      ]
     },
     "execution_count": 25,
     "metadata": {},
     "output_type": "execute_result"
    },
    {
     "data": {
      "image/png": "[encoded data removed]",
      "text/plain": [
       "<Figure size 432x288 with 1 Axes>"
      ]
     },
     "metadata": {
      "needs_background": "light"
     },
     "output_type": "display_data"
    }
   ],
   "source": [
    "df[[\"Score1_z\", \"Score2_z\"]].plot(kind='bar')"
   ]
  },
  {
   "cell_type": "code",
   "execution_count": null,
   "id": "8679582d-0fb5-40e9-9e4f-cd4668dce2f3",
   "metadata": {},
   "outputs": [],
   "source": []
  },
  {
   "cell_type": "markdown",
   "id": "ee36af90-d8f7-4707-814e-4ee86a980bd5",
   "metadata": {},
   "source": [
    "# Sklearn library "
   ]
  },
  {
   "cell_type": "markdown",
   "id": "2cfdaf54-6326-4760-855b-3d13f981c451",
   "metadata": {},
   "source": [
    "Scikit-learn is a popular package for data science and machine learning"
   ]
  },
  {
   "cell_type": "markdown",
   "id": "9bc70904-731f-464f-8c66-81a6386d6587",
   "metadata": {},
   "source": [
    "It contains a preprocessing module that allows us to easily normalize and scale data "
   ]
  },
  {
   "cell_type": "markdown",
   "id": "c742401b-6627-4cf1-8875-f0f15e39d2d2",
   "metadata": {},
   "source": [
    "Let's solve the same example with scikit-learn"
   ]
  },
  {
   "cell_type": "code",
   "execution_count": 26,
   "id": "eddf58b3-4b43-4771-88a7-20751d8e1288",
   "metadata": {},
   "outputs": [],
   "source": [
    "df2 = df.copy()"
   ]
  },
  {
   "cell_type": "code",
   "execution_count": 29,
   "id": "e46922f2-511c-46b4-ad16-5bd9c7318ad7",
   "metadata": {},
   "outputs": [],
   "source": [
    "# Import sklearn modules \n",
    "from sklearn import preprocessing"
   ]
  },
  {
   "cell_type": "code",
   "execution_count": 32,
   "id": "329f7193-d76b-4ca4-971b-5c9cd7f76ea9",
   "metadata": {},
   "outputs": [],
   "source": [
    "# print(dir(preprocessing))\n",
    "\n",
    "# create a standard Scaler obj\n",
    "\n",
    "std_scalar = preprocessing.StandardScaler()"
   ]
  },
  {
   "cell_type": "markdown",
   "id": "9d3f6142-e3c4-4969-9f40-57ffb2615d43",
   "metadata": {},
   "source": [
    "scikit learn pipelines always involve creating either \n",
    "a transform or a model object that we can apply to our dataset"
   ]
  },
  {
   "cell_type": "code",
   "execution_count": 33,
   "id": "2b09338f-6318-4caa-ae5a-bd2accde947a",
   "metadata": {},
   "outputs": [],
   "source": [
    "# apply the transform to the columns "
   ]
  },
  {
   "cell_type": "code",
   "execution_count": 34,
   "id": "ae6a821f-bd22-4412-a548-87402bcbb3dd",
   "metadata": {},
   "outputs": [],
   "source": [
    "df2[[\"Score1_sk\", \"Score2_sk\"]] = std_scalar.fit_transform(df2[[\"Score1\", \"Score2\"]])"
   ]
  },
  {
   "cell_type": "code",
   "execution_count": 35,
   "id": "015b3005-c7b0-44d2-97c5-2510a397fa00",
   "metadata": {},
   "outputs": [
    {
     "data": {
      "text/html": [
       "<div>\n",
       "<style scoped>\n",
       "    .dataframe tbody tr th:only-of-type {\n",
       "        vertical-align: middle;\n",
       "    }\n",
       "\n",
       "    .dataframe tbody tr th {\n",
       "        vertical-align: top;\n",
       "    }\n",
       "\n",
       "    .dataframe thead th {\n",
       "        text-align: right;\n",
       "    }\n",
       "</style>\n",
       "<table border=\"1\" class=\"dataframe\">\n",
       "  <thead>\n",
       "    <tr style=\"text-align: right;\">\n",
       "      <th></th>\n",
       "      <th>Score1</th>\n",
       "      <th>Score2</th>\n",
       "      <th>Score1_z</th>\n",
       "      <th>Score2_z</th>\n",
       "      <th>Score1_sk</th>\n",
       "      <th>Score2_sk</th>\n",
       "    </tr>\n",
       "  </thead>\n",
       "  <tbody>\n",
       "    <tr>\n",
       "      <th>0</th>\n",
       "      <td>62</td>\n",
       "      <td>1062</td>\n",
       "      <td>0.296499</td>\n",
       "      <td>-0.419936</td>\n",
       "      <td>0.308606</td>\n",
       "      <td>-0.437083</td>\n",
       "    </tr>\n",
       "    <tr>\n",
       "      <th>1</th>\n",
       "      <td>-47</td>\n",
       "      <td>-1047</td>\n",
       "      <td>-2.024712</td>\n",
       "      <td>-0.588017</td>\n",
       "      <td>-2.107387</td>\n",
       "      <td>-0.612028</td>\n",
       "    </tr>\n",
       "    <tr>\n",
       "      <th>2</th>\n",
       "      <td>-55</td>\n",
       "      <td>-12555</td>\n",
       "      <td>-2.195076</td>\n",
       "      <td>-1.505171</td>\n",
       "      <td>-2.284708</td>\n",
       "      <td>-1.566632</td>\n",
       "    </tr>\n",
       "    <tr>\n",
       "      <th>3</th>\n",
       "      <td>74</td>\n",
       "      <td>20074</td>\n",
       "      <td>0.552045</td>\n",
       "      <td>1.095265</td>\n",
       "      <td>0.574587</td>\n",
       "      <td>1.139988</td>\n",
       "    </tr>\n",
       "    <tr>\n",
       "      <th>4</th>\n",
       "      <td>31</td>\n",
       "      <td>40031</td>\n",
       "      <td>-0.363662</td>\n",
       "      <td>2.685779</td>\n",
       "      <td>-0.378511</td>\n",
       "      <td>2.795448</td>\n",
       "    </tr>\n",
       "    <tr>\n",
       "      <th>5</th>\n",
       "      <td>77</td>\n",
       "      <td>1077</td>\n",
       "      <td>0.615932</td>\n",
       "      <td>-0.418741</td>\n",
       "      <td>0.641082</td>\n",
       "      <td>-0.435839</td>\n",
       "    </tr>\n",
       "    <tr>\n",
       "      <th>6</th>\n",
       "      <td>85</td>\n",
       "      <td>1185</td>\n",
       "      <td>0.786296</td>\n",
       "      <td>-0.410133</td>\n",
       "      <td>0.818403</td>\n",
       "      <td>-0.426880</td>\n",
       "    </tr>\n",
       "    <tr>\n",
       "      <th>7</th>\n",
       "      <td>63</td>\n",
       "      <td>163</td>\n",
       "      <td>0.317795</td>\n",
       "      <td>-0.491584</td>\n",
       "      <td>0.330771</td>\n",
       "      <td>-0.511657</td>\n",
       "    </tr>\n",
       "    <tr>\n",
       "      <th>8</th>\n",
       "      <td>42</td>\n",
       "      <td>4222</td>\n",
       "      <td>-0.129411</td>\n",
       "      <td>-0.168093</td>\n",
       "      <td>-0.134695</td>\n",
       "      <td>-0.174957</td>\n",
       "    </tr>\n",
       "    <tr>\n",
       "      <th>9</th>\n",
       "      <td>67</td>\n",
       "      <td>3467</td>\n",
       "      <td>0.402977</td>\n",
       "      <td>-0.228265</td>\n",
       "      <td>0.419431</td>\n",
       "      <td>-0.237585</td>\n",
       "    </tr>\n",
       "    <tr>\n",
       "      <th>10</th>\n",
       "      <td>89</td>\n",
       "      <td>8889</td>\n",
       "      <td>0.871478</td>\n",
       "      <td>0.203853</td>\n",
       "      <td>0.907063</td>\n",
       "      <td>0.212177</td>\n",
       "    </tr>\n",
       "    <tr>\n",
       "      <th>11</th>\n",
       "      <td>81</td>\n",
       "      <td>10081</td>\n",
       "      <td>0.701114</td>\n",
       "      <td>0.298852</td>\n",
       "      <td>0.729742</td>\n",
       "      <td>0.311055</td>\n",
       "    </tr>\n",
       "    <tr>\n",
       "      <th>12</th>\n",
       "      <td>56</td>\n",
       "      <td>5656</td>\n",
       "      <td>0.168726</td>\n",
       "      <td>-0.053808</td>\n",
       "      <td>0.175616</td>\n",
       "      <td>-0.056005</td>\n",
       "    </tr>\n",
       "  </tbody>\n",
       "</table>\n",
       "</div>"
      ],
      "text/plain": [
       "    Score1  Score2  Score1_z  Score2_z  Score1_sk  Score2_sk\n",
       "0       62    1062  0.296499 -0.419936   0.308606  -0.437083\n",
       "1      -47   -1047 -2.024712 -0.588017  -2.107387  -0.612028\n",
       "2      -55  -12555 -2.195076 -1.505171  -2.284708  -1.566632\n",
       "3       74   20074  0.552045  1.095265   0.574587   1.139988\n",
       "4       31   40031 -0.363662  2.685779  -0.378511   2.795448\n",
       "5       77    1077  0.615932 -0.418741   0.641082  -0.435839\n",
       "6       85    1185  0.786296 -0.410133   0.818403  -0.426880\n",
       "7       63     163  0.317795 -0.491584   0.330771  -0.511657\n",
       "8       42    4222 -0.129411 -0.168093  -0.134695  -0.174957\n",
       "9       67    3467  0.402977 -0.228265   0.419431  -0.237585\n",
       "10      89    8889  0.871478  0.203853   0.907063   0.212177\n",
       "11      81   10081  0.701114  0.298852   0.729742   0.311055\n",
       "12      56    5656  0.168726 -0.053808   0.175616  -0.056005"
      ]
     },
     "execution_count": 35,
     "metadata": {},
     "output_type": "execute_result"
    }
   ],
   "source": [
    "df2"
   ]
  },
  {
   "cell_type": "code",
   "execution_count": null,
   "id": "f2bf40eb-f718-42e6-8b15-f0529cd49f52",
   "metadata": {},
   "outputs": [],
   "source": []
  },
  {
   "cell_type": "markdown",
   "id": "f509b8a2-b762-4741-8d15-22be9dd92e36",
   "metadata": {},
   "source": [
    "## Scaling"
   ]
  },
  {
   "cell_type": "markdown",
   "id": "ecea65d3-568d-40f0-894b-5e38c0787b36",
   "metadata": {},
   "source": [
    "### Min-Max Scaling"
   ]
  },
  {
   "cell_type": "markdown",
   "id": "a79e94a0-0a94-4bb9-bf33-220ee9fb5346",
   "metadata": {},
   "source": [
    "This scales the data points to a fixed range, usually btw 0 and 1"
   ]
  },
  {
   "cell_type": "code",
   "execution_count": 36,
   "id": "bf092215-44cb-410f-8eac-b7ba80b146a7",
   "metadata": {},
   "outputs": [],
   "source": [
    "# get the scalar from sklearn\n",
    "min_max_scalar = preprocessing.MinMaxScaler()"
   ]
  },
  {
   "cell_type": "code",
   "execution_count": 39,
   "id": "995ec8a9-bd97-40f8-a546-02da2b0e68e8",
   "metadata": {},
   "outputs": [],
   "source": [
    "# clean the the table\n",
    "df3 = df.copy()\n",
    "\n",
    "df3.head(3)\n",
    "\n",
    "del df3[\"Score1_z\"]\n",
    "\n",
    "del df3[\"Score2_z\"]"
   ]
  },
  {
   "cell_type": "code",
   "execution_count": 41,
   "id": "a8da1d1c-94ba-44f9-bc12-23572ab093fd",
   "metadata": {},
   "outputs": [
    {
     "data": {
      "text/html": [
       "<div>\n",
       "<style scoped>\n",
       "    .dataframe tbody tr th:only-of-type {\n",
       "        vertical-align: middle;\n",
       "    }\n",
       "\n",
       "    .dataframe tbody tr th {\n",
       "        vertical-align: top;\n",
       "    }\n",
       "\n",
       "    .dataframe thead th {\n",
       "        text-align: right;\n",
       "    }\n",
       "</style>\n",
       "<table border=\"1\" class=\"dataframe\">\n",
       "  <thead>\n",
       "    <tr style=\"text-align: right;\">\n",
       "      <th></th>\n",
       "      <th>Score1</th>\n",
       "      <th>Score2</th>\n",
       "    </tr>\n",
       "  </thead>\n",
       "  <tbody>\n",
       "    <tr>\n",
       "      <th>0</th>\n",
       "      <td>62</td>\n",
       "      <td>1062</td>\n",
       "    </tr>\n",
       "    <tr>\n",
       "      <th>1</th>\n",
       "      <td>-47</td>\n",
       "      <td>-1047</td>\n",
       "    </tr>\n",
       "  </tbody>\n",
       "</table>\n",
       "</div>"
      ],
      "text/plain": [
       "   Score1  Score2\n",
       "0      62    1062\n",
       "1     -47   -1047"
      ]
     },
     "execution_count": 41,
     "metadata": {},
     "output_type": "execute_result"
    }
   ],
   "source": [
    "df3.head(2)"
   ]
  },
  {
   "cell_type": "code",
   "execution_count": 42,
   "id": "798379e9-5e46-4ea8-8c54-77c3e232c617",
   "metadata": {},
   "outputs": [],
   "source": [
    "# apply the minmax scalar using fit-transform\n",
    "scaled_df = min_max_scalar.fit_transform(df3)"
   ]
  },
  {
   "cell_type": "code",
   "execution_count": 43,
   "id": "c2467a19-51dc-43f3-b98e-746bc24a4749",
   "metadata": {},
   "outputs": [],
   "source": [
    "names = df3.columns"
   ]
  },
  {
   "cell_type": "code",
   "execution_count": 44,
   "id": "caff998a-f053-427d-af6b-036c06cb92f7",
   "metadata": {},
   "outputs": [],
   "source": [
    "res = pd.DataFrame(scaled_df, columns=names)"
   ]
  },
  {
   "cell_type": "code",
   "execution_count": 46,
   "id": "876f31a6-eed3-41c6-90b7-dd654c639e38",
   "metadata": {},
   "outputs": [
    {
     "data": {
      "text/plain": [
       "<AxesSubplot:>"
      ]
     },
     "execution_count": 46,
     "metadata": {},
     "output_type": "execute_result"
    },
    {
     "data": {
      "image/png": "[encoded data removed]",
      "text/plain": [
       "<Figure size 432x288 with 1 Axes>"
      ]
     },
     "metadata": {
      "needs_background": "light"
     },
     "output_type": "display_data"
    }
   ],
   "source": [
    "res.plot(kind='bar')"
   ]
  },
  {
   "cell_type": "code",
   "execution_count": null,
   "id": "3e9f8bb5-bcbf-4088-ac5f-95699f1f4a41",
   "metadata": {},
   "outputs": [],
   "source": []
  }
 ],
 "metadata": {
  "kernelspec": {
   "display_name": "Python 3 (ipykernel)",
   "language": "python",
   "name": "python3"
  },
  "language_info": {
   "codemirror_mode": {
    "name": "ipython",
    "version": 3
   },
   "file_extension": ".py",
   "mimetype": "text/x-python",
   "name": "python",
   "nbconvert_exporter": "python",
   "pygments_lexer": "ipython3",
   "version": "3.9.7"
  }
 },
 "nbformat": 4,
 "nbformat_minor": 5
}
