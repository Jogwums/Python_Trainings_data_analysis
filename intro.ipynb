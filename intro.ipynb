{
 "cells": [
  {
   "cell_type": "markdown",
   "id": "2e5f9019-a59f-42c1-bd75-da00bba950ff",
   "metadata": {},
   "source": [
    "# Introduction to Python"
   ]
  },
  {
   "cell_type": "code",
   "execution_count": 1,
   "id": "d3f43b7c-6e18-44fb-aa69-fd47357f6916",
   "metadata": {},
   "outputs": [],
   "source": [
    "# python files\n",
    "\n",
    "# .py\n",
    "\n",
    "# notebook (jupyter notebook)\n",
    "\n",
    "# .ipynb\n",
    "\n",
    "\n"
   ]
  },
  {
   "cell_type": "code",
   "execution_count": 2,
   "id": "a7485586-e902-4703-8295-118feb5f6799",
   "metadata": {},
   "outputs": [
    {
     "data": {
      "text/plain": [
       "'C:\\\\Users\\\\Ogwumike\\\\Desktop\\\\Hiit\\\\Data Analysis\\\\Weekdays\\\\python\\\\4thApril2022'"
      ]
     },
     "execution_count": 2,
     "metadata": {},
     "output_type": "execute_result"
    }
   ],
   "source": [
    "pwd # shows the present working directory"
   ]
  },
  {
   "cell_type": "code",
   "execution_count": 3,
   "id": "cab09e8d-31e6-45e2-8f85-911ffd9a0d49",
   "metadata": {},
   "outputs": [
    {
     "name": "stdout",
     "output_type": "stream",
     "text": [
      "Hello World\n"
     ]
    }
   ],
   "source": [
    "print(\"Hello World\") # output to the screen"
   ]
  },
  {
   "cell_type": "markdown",
   "id": "d2a8723e-821a-4bde-a712-b3501608d97e",
   "metadata": {},
   "source": [
    "### Python syntax and variables "
   ]
  },
  {
   "cell_type": "code",
   "execution_count": 4,
   "id": "f80ff48a-285e-4aaa-a017-4060d5b64a4e",
   "metadata": {},
   "outputs": [],
   "source": [
    "# equal to is the assignment operator\n",
    "\n",
    "name = \"James\"\n",
    "\n",
    "# in the above line of code,\n",
    "\n",
    "# name is a variable, it is used to store values\n",
    "# variables are like containers\n",
    "# currently, the name variable is storing the\n",
    "# value of James\n",
    "\n"
   ]
  },
  {
   "cell_type": "code",
   "execution_count": 5,
   "id": "1d334779-54a5-4e30-b92d-b30e7d57d6a8",
   "metadata": {},
   "outputs": [
    {
     "name": "stdout",
     "output_type": "stream",
     "text": [
      "James\n"
     ]
    }
   ],
   "source": [
    "print(name)"
   ]
  },
  {
   "cell_type": "code",
   "execution_count": 6,
   "id": "4c6d67b5-1333-4e28-8200-711860c6d5db",
   "metadata": {},
   "outputs": [
    {
     "name": "stdout",
     "output_type": "stream",
     "text": [
      "11\n"
     ]
    }
   ],
   "source": [
    "x = 5\n",
    "y = 6\n",
    "z = x+y\n",
    "print(z)"
   ]
  },
  {
   "cell_type": "code",
   "execution_count": null,
   "id": "06aca0ff-cf98-4ef7-b68a-75b45e3f7871",
   "metadata": {},
   "outputs": [],
   "source": []
  }
 ],
 "metadata": {
  "kernelspec": {
   "display_name": "Python 3 (ipykernel)",
   "language": "python",
   "name": "python3"
  },
  "language_info": {
   "codemirror_mode": {
    "name": "ipython",
    "version": 3
   },
   "file_extension": ".py",
   "mimetype": "text/x-python",
   "name": "python",
   "nbconvert_exporter": "python",
   "pygments_lexer": "ipython3",
   "version": "3.9.7"
  }
 },
 "nbformat": 4,
 "nbformat_minor": 5
}
