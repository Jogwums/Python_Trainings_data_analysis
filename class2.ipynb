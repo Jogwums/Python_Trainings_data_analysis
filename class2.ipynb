{
 "cells": [
  {
   "cell_type": "code",
   "execution_count": 1,
   "id": "ab20a1a2-9bf5-4845-beeb-506bc0db47f7",
   "metadata": {},
   "outputs": [],
   "source": [
    "# Assignment solution"
   ]
  },
  {
   "cell_type": "code",
   "execution_count": 2,
   "id": "256adb93-b77d-450c-81b4-6b723ef56fce",
   "metadata": {},
   "outputs": [],
   "source": [
    "message = \"Good morning! \""
   ]
  },
  {
   "cell_type": "code",
   "execution_count": 3,
   "id": "29e3ae33-defe-4d7d-86f3-7bea13930f1f",
   "metadata": {},
   "outputs": [
    {
     "name": "stdout",
     "output_type": "stream",
     "text": [
      "Please enter your name... Joy\n"
     ]
    }
   ],
   "source": [
    "name = input(\"Please enter your name...\")"
   ]
  },
  {
   "cell_type": "code",
   "execution_count": 5,
   "id": "57edf643-46e3-4a2b-bac5-191f850679ff",
   "metadata": {},
   "outputs": [
    {
     "name": "stdout",
     "output_type": "stream",
     "text": [
      "Good morning!  Joy, welcome to class!\n"
     ]
    }
   ],
   "source": [
    "# show result \n",
    "# f string \n",
    "# special formatting method \n",
    "# enables variables to be added to a \n",
    "# string in curly brackets\n",
    "print(f'{message} {name}, welcome to class!')"
   ]
  },
  {
   "cell_type": "code",
   "execution_count": 10,
   "id": "5dace1e2-9642-4712-b7e5-988bcec408ab",
   "metadata": {},
   "outputs": [
    {
     "name": "stdout",
     "output_type": "stream",
     "text": [
      "What do you want to sell? eggs\n",
      "How many eggs do you want to sell ? 5\n",
      "What is the price of each item 120\n"
     ]
    },
    {
     "name": "stdout",
     "output_type": "stream",
     "text": [
      "You are selling 5 pieces of eggs and you will get 120 per piece. Total price 600\n"
     ]
    }
   ],
   "source": [
    "# Ex 2\n",
    "\n",
    "item_name = input(\"What do you want to sell?\")\n",
    "quantity = input(f\"How many {item_name} do you want to sell ?\")\n",
    "price = input(\"What is the price of each item\")\n",
    "total = int(quantity) * int(price) # type conversion from str to int \n",
    "\n",
    "# feedback / output\n",
    "output_msg = f\"You are selling {quantity} pieces of {item_name} and you will get {price} per piece. Total price {total}\"\n",
    "print(output_msg)"
   ]
  },
  {
   "cell_type": "code",
   "execution_count": 1,
   "id": "eb009a3c-ded2-4612-9c0e-4cc633c44a09",
   "metadata": {},
   "outputs": [],
   "source": [
    "# "
   ]
  },
  {
   "cell_type": "markdown",
   "id": "3399526a-4908-4b08-8129-8046651ead9a",
   "metadata": {},
   "source": [
    "## Import a python file"
   ]
  },
  {
   "cell_type": "code",
   "execution_count": 2,
   "id": "a5327dcd-a099-4147-a584-525379544fd2",
   "metadata": {},
   "outputs": [
    {
     "name": "stdout",
     "output_type": "stream",
     "text": [
      "Good morning!\n"
     ]
    }
   ],
   "source": [
    "import greeting"
   ]
  },
  {
   "cell_type": "code",
   "execution_count": 3,
   "id": "d4f29197-ed14-4076-b12c-fea985dc4c47",
   "metadata": {},
   "outputs": [
    {
     "data": {
      "text/plain": [
       "'Good afternoon'"
      ]
     },
     "execution_count": 3,
     "metadata": {},
     "output_type": "execute_result"
    }
   ],
   "source": [
    "greeting.msg2"
   ]
  },
  {
   "cell_type": "code",
   "execution_count": 4,
   "id": "471b5b07-f3ff-422e-a2b2-6cff1a359696",
   "metadata": {},
   "outputs": [
    {
     "data": {
      "text/plain": [
       "'Good evening!'"
      ]
     },
     "execution_count": 4,
     "metadata": {},
     "output_type": "execute_result"
    }
   ],
   "source": [
    "greeting.msg3"
   ]
  },
  {
   "cell_type": "code",
   "execution_count": null,
   "id": "89329e73-28d5-4558-b832-3c02610bc5ab",
   "metadata": {},
   "outputs": [],
   "source": []
  }
 ],
 "metadata": {
  "kernelspec": {
   "display_name": "Python 3.9.7 ('mlenv')",
   "language": "python",
   "name": "python3"
  },
  "language_info": {
   "codemirror_mode": {
    "name": "ipython",
    "version": 3
   },
   "file_extension": ".py",
   "mimetype": "text/x-python",
   "name": "python",
   "nbconvert_exporter": "python",
   "pygments_lexer": "ipython3",
   "version": "3.9.7"
  },
  "vscode": {
   "interpreter": {
    "hash": "040aa6cef69799d8e1d777d6d5c78ec00a8e8c63a43d6b8ea0579cb934887296"
   }
  }
 },
 "nbformat": 4,
 "nbformat_minor": 5
}
