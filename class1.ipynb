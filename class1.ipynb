{
 "cells": [
  {
   "cell_type": "code",
   "execution_count": null,
   "id": "4a9c1e43-aa8c-4ea8-a13a-bc8f4dac9c61",
   "metadata": {},
   "outputs": [],
   "source": []
  },
  {
   "cell_type": "markdown",
   "id": "bc2a2318-6f11-4e8b-98d3-ede6f67790a2",
   "metadata": {},
   "source": [
    "# Python Variables and Data Types"
   ]
  },
  {
   "cell_type": "code",
   "execution_count": 2,
   "id": "58d2e864-b568-477c-914c-9d430abc2bfc",
   "metadata": {},
   "outputs": [],
   "source": [
    "## Create variables\n",
    "\n",
    "x = \"hello\"\n",
    "\n",
    "y = \"welcome\""
   ]
  },
  {
   "cell_type": "code",
   "execution_count": 3,
   "id": "e39b3c48-548d-4e13-9d8f-839a1c1daf2d",
   "metadata": {},
   "outputs": [
    {
     "name": "stdout",
     "output_type": "stream",
     "text": [
      "<class 'str'>\n",
      "<class 'str'>\n"
     ]
    }
   ],
   "source": [
    "## check the data types\n",
    "\n",
    "print(type(x))\n",
    "print(type(y))"
   ]
  },
  {
   "cell_type": "code",
   "execution_count": 4,
   "id": "1211ed75-f4ef-44d4-bd50-d67f51a80fcc",
   "metadata": {},
   "outputs": [
    {
     "name": "stdout",
     "output_type": "stream",
     "text": [
      "hello\n",
      "welcome\n"
     ]
    }
   ],
   "source": [
    "print(x)\n",
    "print(y)"
   ]
  },
  {
   "cell_type": "markdown",
   "id": "b15241c5-c4ce-4be9-9fc4-de636707cb0c",
   "metadata": {},
   "source": [
    "## Data Types "
   ]
  },
  {
   "cell_type": "markdown",
   "id": "963b5a29-bb0b-4974-b34e-d924135cd5d3",
   "metadata": {},
   "source": [
    "Text Type\n",
    " - Strings (str) \n",
    "\n",
    "Number Type \n",
    " - integer\n",
    " - float\n",
    " - complex\n",
    " \n",
    "Boolean (bool)\n",
    " - True\n",
    " - False\n",
    " \n",
    "Sequence Types\n",
    "   - list \n",
    "   - tuple\n",
    "   - range\n",
    "    \n",
    "Mapping Types\n",
    "   - dict\n",
    "\n"
   ]
  },
  {
   "cell_type": "markdown",
   "id": "9d8decbe-3746-483f-b9ce-aa996a60d8e2",
   "metadata": {},
   "source": [
    "# Strings "
   ]
  },
  {
   "cell_type": "code",
   "execution_count": 6,
   "id": "96f31f65-80fa-4892-98ca-b67a5835047c",
   "metadata": {},
   "outputs": [
    {
     "name": "stdout",
     "output_type": "stream",
     "text": [
      "hello welcome\n"
     ]
    }
   ],
   "source": [
    "x = \"hello\"\n",
    "y = \"welcome\"\n",
    "\n",
    "print(x,y)"
   ]
  },
  {
   "cell_type": "code",
   "execution_count": 7,
   "id": "a258944c-c11a-4b47-8fff-df77e49efe80",
   "metadata": {},
   "outputs": [
    {
     "name": "stdout",
     "output_type": "stream",
     "text": [
      "<class 'str'>\n"
     ]
    }
   ],
   "source": [
    "z = 'james'\n",
    "print(type(z))"
   ]
  },
  {
   "cell_type": "code",
   "execution_count": 8,
   "id": "cdac3129-ed1d-4a35-b0f1-f00051bd8b85",
   "metadata": {},
   "outputs": [],
   "source": [
    "# multiline strings\n",
    "m = \"\"\"\n",
    "    this is a multi\n",
    "    line string and \n",
    "    can hold multiple text\n",
    "\"\"\""
   ]
  },
  {
   "cell_type": "code",
   "execution_count": 9,
   "id": "7da8d66c-b81f-45fd-86e4-271e9adb4f5e",
   "metadata": {},
   "outputs": [
    {
     "name": "stdout",
     "output_type": "stream",
     "text": [
      "\n",
      "    this is a multi\n",
      "    line string and \n",
      "    can hold multiple text\n",
      "\n"
     ]
    }
   ],
   "source": [
    "print(m)"
   ]
  },
  {
   "cell_type": "code",
   "execution_count": 10,
   "id": "0c9bc89c-e235-412b-a2c7-5884c060a549",
   "metadata": {},
   "outputs": [
    {
     "name": "stdout",
     "output_type": "stream",
     "text": [
      "69\n"
     ]
    }
   ],
   "source": [
    "# no of characters\n",
    "print(len(m))"
   ]
  },
  {
   "cell_type": "code",
   "execution_count": 11,
   "id": "85f8f33e-19e1-4c00-8e5b-5a135dcbcf3d",
   "metadata": {},
   "outputs": [
    {
     "name": "stdout",
     "output_type": "stream",
     "text": [
      "5 5 7\n"
     ]
    }
   ],
   "source": [
    "print(len(z), len(x), len(y))"
   ]
  },
  {
   "cell_type": "code",
   "execution_count": 17,
   "id": "7faef793-89cb-4105-9c06-716a070df5b4",
   "metadata": {},
   "outputs": [
    {
     "name": "stdout",
     "output_type": "stream",
     "text": [
      "h\n"
     ]
    }
   ],
   "source": [
    "print(x[0]) # first index number is zero"
   ]
  },
  {
   "cell_type": "code",
   "execution_count": 18,
   "id": "46b8de4d-a93e-4c8d-9e64-fe9ca530c8ef",
   "metadata": {},
   "outputs": [
    {
     "name": "stdout",
     "output_type": "stream",
     "text": [
      "e\n"
     ]
    }
   ],
   "source": [
    "print(x[1]) # 2nd index is 1"
   ]
  },
  {
   "cell_type": "code",
   "execution_count": 19,
   "id": "ddc6b1b6-442f-4c73-8d56-ae2e621750a4",
   "metadata": {},
   "outputs": [
    {
     "name": "stdout",
     "output_type": "stream",
     "text": [
      "o\n"
     ]
    }
   ],
   "source": [
    "print(x[-1]) # last index place"
   ]
  },
  {
   "cell_type": "code",
   "execution_count": 20,
   "id": "67d81222-34ef-4943-828e-a2b04ddc7212",
   "metadata": {},
   "outputs": [
    {
     "name": "stdout",
     "output_type": "stream",
     "text": [
      "h\n",
      "e\n",
      "l\n",
      "l\n",
      "o\n"
     ]
    }
   ],
   "source": [
    "# strings have an array-like structure \n",
    "# so we can loop through the characters \n",
    "\n",
    "for i in x:\n",
    "    print(i)\n"
   ]
  },
  {
   "cell_type": "code",
   "execution_count": 21,
   "id": "626761df-3127-4242-a53a-45c77301a4c7",
   "metadata": {},
   "outputs": [
    {
     "name": "stdout",
     "output_type": "stream",
     "text": [
      "w\n",
      "e\n",
      "l\n",
      "c\n",
      "o\n",
      "m\n",
      "e\n"
     ]
    }
   ],
   "source": [
    "for _ in y:\n",
    "    print(_)"
   ]
  },
  {
   "cell_type": "code",
   "execution_count": 24,
   "id": "dc58d507-559b-4bea-944b-0292d28e2f1f",
   "metadata": {},
   "outputs": [
    {
     "name": "stdout",
     "output_type": "stream",
     "text": [
      "Hello Jane, welcome to our class\n",
      "<class 'str'>\n",
      "32\n",
      "True\n"
     ]
    }
   ],
   "source": [
    "# check if something is in the string text\n",
    "\n",
    "msg = \"Hello Jane, welcome to our class\"\n",
    "\n",
    "print(msg)\n",
    "print(type(msg))\n",
    "print(len(msg))\n",
    "\n",
    "print(\"Hello\" in msg)"
   ]
  },
  {
   "cell_type": "code",
   "execution_count": 25,
   "id": "1a2d0d6f-adf3-4af0-b5e4-9cb5794df612",
   "metadata": {},
   "outputs": [
    {
     "name": "stdout",
     "output_type": "stream",
     "text": [
      "Yes, the word is in msg\n"
     ]
    }
   ],
   "source": [
    "# Example\n",
    "# use an if statement to render conditionally\n",
    "\n",
    "if \"Hello\" in msg:\n",
    "    print(\"Yes, the word is in msg\")"
   ]
  },
  {
   "cell_type": "code",
   "execution_count": 27,
   "id": "ecfacc14-80e1-4032-bd35-1b0a9d768c5d",
   "metadata": {},
   "outputs": [],
   "source": [
    "# false - Joy\n",
    "\n",
    "if \"Joy\" in msg:\n",
    "    print(\"Yes, the word is in msg\")\n"
   ]
  },
  {
   "cell_type": "code",
   "execution_count": 28,
   "id": "50ad8fe9-fb6d-4061-b979-316ed83b1cce",
   "metadata": {},
   "outputs": [
    {
     "name": "stdout",
     "output_type": "stream",
     "text": [
      "No, the word isn't there\n"
     ]
    }
   ],
   "source": [
    "# adding an else block to the if statement \n",
    "if \"Joy\" in msg:\n",
    "    print(\"Yes, the word is in msg\")\n",
    "else:\n",
    "    print(\"No, the word isn't there\")"
   ]
  },
  {
   "cell_type": "markdown",
   "id": "f2e207ac-b8c9-456e-aacf-457cff47c47e",
   "metadata": {},
   "source": [
    "# Concatenating Strings"
   ]
  },
  {
   "cell_type": "code",
   "execution_count": 30,
   "id": "2615585d-dda9-4ffe-9d03-56395cd96285",
   "metadata": {},
   "outputs": [
    {
     "name": "stdout",
     "output_type": "stream",
     "text": [
      "hellowelcome\n"
     ]
    }
   ],
   "source": [
    "x = \"hello\"\n",
    "y = \"welcome\"\n",
    "\n",
    "z = x + y\n",
    "\n",
    "print(z)"
   ]
  },
  {
   "cell_type": "code",
   "execution_count": 31,
   "id": "e6875634-eadb-4f30-a2d9-1bf666ea76c8",
   "metadata": {},
   "outputs": [
    {
     "name": "stdout",
     "output_type": "stream",
     "text": [
      "hello welcome\n"
     ]
    }
   ],
   "source": [
    "# add space with a string \n",
    "\n",
    "z = x + \" \" + y\n",
    "\n",
    "print(z)"
   ]
  },
  {
   "cell_type": "markdown",
   "id": "677627e1-7682-45d7-bb12-190b7805a33c",
   "metadata": {},
   "source": [
    "# Exercise"
   ]
  },
  {
   "cell_type": "raw",
   "id": "1d0b9e90-7e41-4155-9c10-76922b5aabdd",
   "metadata": {},
   "source": [
    "Python can be easy to pick up whether you're a first time programmer or you're experienced with other languages. The following pages are a useful first step to get on your way writing programs with Python!"
   ]
  },
  {
   "cell_type": "code",
   "execution_count": 32,
   "id": "f387fea9-e23a-49cc-a38a-2e06e1598fdf",
   "metadata": {},
   "outputs": [],
   "source": [
    "txt = \"Python can be easy to pick up whether you're a first time programmer or you're experienced with other languages. The following pages are a useful first step to get on your way writing programs with Python!\""
   ]
  },
  {
   "cell_type": "code",
   "execution_count": 33,
   "id": "8a404d6a-025f-4fd5-af55-0e7dd7de3ac7",
   "metadata": {},
   "outputs": [
    {
     "name": "stdout",
     "output_type": "stream",
     "text": [
      "Python can be easy to pick up whether you're a first time programmer or you're experienced with other languages. The following pages are a useful first step to get on your way writing programs with Python!\n"
     ]
    }
   ],
   "source": [
    "print(txt)"
   ]
  },
  {
   "cell_type": "code",
   "execution_count": 34,
   "id": "a05d202e-2d7f-4b11-b375-5a483fb57e01",
   "metadata": {},
   "outputs": [],
   "source": [
    "# Slicing"
   ]
  },
  {
   "cell_type": "code",
   "execution_count": 36,
   "id": "8193b566-65da-4471-a2ab-837c58207c10",
   "metadata": {},
   "outputs": [
    {
     "name": "stdout",
     "output_type": "stream",
     "text": [
      "Python can be easy to pick up whether you're a fir\n"
     ]
    }
   ],
   "source": [
    "print(txt[0:50])"
   ]
  },
  {
   "cell_type": "code",
   "execution_count": 43,
   "id": "8fca7d25-1b5b-44a7-ac66-f3368c9d9fae",
   "metadata": {},
   "outputs": [
    {
     "name": "stdout",
     "output_type": "stream",
     "text": [
      "guages. The following pages are a useful first step to get on your way writing programs with Python\n"
     ]
    }
   ],
   "source": [
    "# from the end\n",
    "print(txt[-100:-1])"
   ]
  },
  {
   "cell_type": "markdown",
   "id": "737ea03d-5e0f-48ba-b011-8be0cd404bcc",
   "metadata": {},
   "source": [
    "# User Input"
   ]
  },
  {
   "cell_type": "code",
   "execution_count": 45,
   "id": "e7bd58dc-6cc6-4a17-b31a-a8283d5a57b4",
   "metadata": {},
   "outputs": [
    {
     "name": "stdin",
     "output_type": "stream",
     "text": [
      "Enter your name: Joy\n"
     ]
    },
    {
     "data": {
      "text/plain": [
       "'Joy'"
      ]
     },
     "execution_count": 45,
     "metadata": {},
     "output_type": "execute_result"
    }
   ],
   "source": [
    "input(\"Enter your name:\" )"
   ]
  },
  {
   "cell_type": "markdown",
   "id": "6aaea1e3-0aa2-4906-8414-a65a0e0e04e9",
   "metadata": {},
   "source": [
    "# Assignment\n",
    "\n",
    "Create a greeting message\n",
    "\n",
    "Then get the username using an input method\n",
    "\n",
    "Display the Name and Greeting in one print statement"
   ]
  },
  {
   "cell_type": "code",
   "execution_count": null,
   "id": "14be6776-9e76-4285-8308-a79151048ac4",
   "metadata": {},
   "outputs": [],
   "source": []
  }
 ],
 "metadata": {
  "kernelspec": {
   "display_name": "Python 3 (ipykernel)",
   "language": "python",
   "name": "python3"
  },
  "language_info": {
   "codemirror_mode": {
    "name": "ipython",
    "version": 3
   },
   "file_extension": ".py",
   "mimetype": "text/x-python",
   "name": "python",
   "nbconvert_exporter": "python",
   "pygments_lexer": "ipython3",
   "version": "3.9.12"
  }
 },
 "nbformat": 4,
 "nbformat_minor": 5
}
