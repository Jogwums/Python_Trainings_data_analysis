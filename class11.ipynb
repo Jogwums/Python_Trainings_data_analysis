{
 "cells": [
  {
   "cell_type": "code",
   "execution_count": 2,
   "id": "1aa1e279-90e3-4d30-b4f3-f0f565ef907e",
   "metadata": {},
   "outputs": [
    {
     "name": "stdout",
     "output_type": "stream",
     "text": [
      "ready\n"
     ]
    }
   ],
   "source": [
    "# environment \n",
    "\n",
    "import numpy as np \n",
    "import pandas as pd \n",
    "import matplotlib.pyplot as plt \n",
    "import scipy.stats as stats\n",
    "import seaborn as sns \n",
    "\n",
    "print('ready')"
   ]
  },
  {
   "cell_type": "markdown",
   "id": "f4e2c8b5-df4d-48c6-bd82-a5b551d28dde",
   "metadata": {},
   "source": [
    "# Variance"
   ]
  },
  {
   "cell_type": "markdown",
   "id": "69c48f08-bc8b-4068-9911-6196a1032603",
   "metadata": {},
   "source": [
    "Variance indicates how spreadout the values are"
   ]
  },
  {
   "cell_type": "code",
   "execution_count": 3,
   "id": "77b828f0-995e-40cb-b197-af760a12b809",
   "metadata": {},
   "outputs": [],
   "source": [
    "prices = [45, 56, 34, 98, 12, 30, 29, 68, 25, 75, 65, 34]"
   ]
  },
  {
   "cell_type": "code",
   "execution_count": 4,
   "id": "f40abcbf-911d-45a3-a9bc-249dd11c638a",
   "metadata": {},
   "outputs": [
    {
     "data": {
      "text/plain": [
       "[45, 56, 34, 98, 12, 30, 29, 68, 25, 75, 65, 34]"
      ]
     },
     "execution_count": 4,
     "metadata": {},
     "output_type": "execute_result"
    }
   ],
   "source": [
    "prices"
   ]
  },
  {
   "cell_type": "code",
   "execution_count": 5,
   "id": "12667c24-2156-430b-8da7-57efd9a81ef4",
   "metadata": {},
   "outputs": [
    {
     "data": {
      "text/plain": [
       "574.2430555555555"
      ]
     },
     "execution_count": 5,
     "metadata": {},
     "output_type": "execute_result"
    }
   ],
   "source": [
    "# variance\n",
    "variance = np.var(prices)\n",
    "variance"
   ]
  },
  {
   "cell_type": "markdown",
   "id": "675d18e6-9f90-4cf4-83fd-6dbaee29815a",
   "metadata": {},
   "source": [
    "# Standard Deviation\n",
    "\n",
    "this is the square root of the variance"
   ]
  },
  {
   "cell_type": "code",
   "execution_count": 6,
   "id": "f194c431-e179-4f89-8db4-c66931aa71cc",
   "metadata": {},
   "outputs": [
    {
     "name": "stdout",
     "output_type": "stream",
     "text": [
      "The SD is  23.963369036000667\n"
     ]
    }
   ],
   "source": [
    "SD = np.sqrt(variance)\n",
    "print(\"The SD is \", SD)"
   ]
  },
  {
   "cell_type": "code",
   "execution_count": 7,
   "id": "1be14a86-e904-4856-9904-7080fca51fef",
   "metadata": {},
   "outputs": [
    {
     "name": "stdout",
     "output_type": "stream",
     "text": [
      "S.D is  23.963369036000667\n"
     ]
    }
   ],
   "source": [
    "# directly from numpy \n",
    "print(\"S.D is \", np.std(prices))"
   ]
  },
  {
   "cell_type": "markdown",
   "id": "0106df99-4da9-4681-9d14-b7e2ebeea22a",
   "metadata": {},
   "source": [
    "# Percentiles \n",
    "\n",
    "- used to give a number that describes the value that a given percent of the data is lower than\n",
    "\n",
    "- usually categorized as 25th, 50th, 75th and 90th percentiles"
   ]
  },
  {
   "cell_type": "code",
   "execution_count": 8,
   "id": "c31fd4fe-8c87-4ee4-a651-aebb58e1462f",
   "metadata": {},
   "outputs": [
    {
     "data": {
      "text/plain": [
       "65.75"
      ]
     },
     "execution_count": 8,
     "metadata": {},
     "output_type": "execute_result"
    }
   ],
   "source": [
    "np.percentile(prices, 75)"
   ]
  },
  {
   "cell_type": "code",
   "execution_count": 12,
   "id": "b4b13473-c9ac-4b59-8c21-abd1715beffe",
   "metadata": {},
   "outputs": [
    {
     "data": {
      "text/plain": [
       "[12, 25, 29, 30, 34, 34, 45, 56, 65, 68, 75, 98]"
      ]
     },
     "execution_count": 12,
     "metadata": {},
     "output_type": "execute_result"
    }
   ],
   "source": [
    "prices.sort()\n",
    "prices"
   ]
  },
  {
   "cell_type": "code",
   "execution_count": 13,
   "id": "f43d448a-65b3-4d7c-9738-042c5655c4ea",
   "metadata": {},
   "outputs": [
    {
     "data": {
      "text/plain": [
       "29.75"
      ]
     },
     "execution_count": 13,
     "metadata": {},
     "output_type": "execute_result"
    }
   ],
   "source": [
    "np.percentile(prices, 25)"
   ]
  },
  {
   "cell_type": "markdown",
   "id": "4636f1e3-65a6-4918-adc4-9383b1e85a91",
   "metadata": {},
   "source": [
    "the above result implies that 25% of the price values are 29.75 or lower"
   ]
  },
  {
   "cell_type": "markdown",
   "id": "0bf1ecc4-2f15-4bc8-aecb-e30c92ef4eba",
   "metadata": {},
   "source": [
    "# find the 50th and 90th percentile and explain the result"
   ]
  },
  {
   "cell_type": "markdown",
   "id": "e9c1b4eb-5393-49c7-9ff7-b35516ca03de",
   "metadata": {},
   "source": [
    "# Quartiles \n",
    "\n",
    "used to seperate the data into 4 equal parts"
   ]
  },
  {
   "cell_type": "code",
   "execution_count": 14,
   "id": "ebcc3cb2-96fb-4533-afd8-7bfa03ae7fcd",
   "metadata": {},
   "outputs": [
    {
     "name": "stdout",
     "output_type": "stream",
     "text": [
      "[12.   29.75 39.5  65.75 98.  ]\n"
     ]
    }
   ],
   "source": [
    "x = np.quantile(prices,[0,0.25,0.5,0.75,1])\n",
    "print(x)"
   ]
  },
  {
   "cell_type": "code",
   "execution_count": 15,
   "id": "37b1f316-cc7a-44d6-a8c4-3b7aefa3fc8c",
   "metadata": {},
   "outputs": [],
   "source": [
    "# Explanantion\n",
    "# Q0, Q1, Q2, Q3, Q4\n",
    "# Q0 to Q1 are the 25% lowest values in the data \n",
    "# between Q1 to Q2 next 25% and so on...\n",
    "\n",
    "# Q0 is the smallest value \n",
    "# Q1 is the value separating the 1st quarter from the 2nd quarter\n",
    "# Q2 is the middle value (median)\n",
    "# Q3 is the value separating the 3rd quarter from the 4th \n",
    "# Q4 is the largest value in the data "
   ]
  },
  {
   "cell_type": "markdown",
   "id": "b64b39b2-1b24-403a-92a7-07d668c0f57d",
   "metadata": {},
   "source": [
    "# Range \n",
    "\n",
    "this is the difference between the lowest and highest values"
   ]
  },
  {
   "cell_type": "code",
   "execution_count": 17,
   "id": "671af527-fff7-4d9a-a0a1-9f79b7eaf903",
   "metadata": {},
   "outputs": [
    {
     "name": "stdout",
     "output_type": "stream",
     "text": [
      "86\n"
     ]
    }
   ],
   "source": [
    "# range from numpy use the ptp method\n",
    "\n",
    "x = np.ptp(prices)\n",
    "\n",
    "print(x) # range is "
   ]
  },
  {
   "cell_type": "markdown",
   "id": "fd8019db-b87a-49e2-91fd-5116f94d135e",
   "metadata": {},
   "source": [
    "# Regression "
   ]
  },
  {
   "cell_type": "markdown",
   "id": "325b408f-5d30-432d-9d96-c10bd24b22a6",
   "metadata": {},
   "source": [
    "Linear Regression"
   ]
  },
  {
   "cell_type": "markdown",
   "id": "0c949efe-c078-48ba-a3b5-ec4163a4fc03",
   "metadata": {},
   "source": [
    "the term regression is used when trying to find the relationship btw variables"
   ]
  },
  {
   "cell_type": "markdown",
   "id": "4c659576-ae91-4a18-b428-f41e3e1a17d8",
   "metadata": {},
   "source": [
    "Linear regression uses the relationship btw data-points to draw a straight line through them"
   ]
  },
  {
   "cell_type": "markdown",
   "id": "09b241b0-6bcf-4d06-9a55-f4373bb60e87",
   "metadata": {},
   "source": [
    "# Crude oil production vs export"
   ]
  },
  {
   "cell_type": "code",
   "execution_count": 19,
   "id": "e71fcfcc-a539-4158-9b78-75b4e651e081",
   "metadata": {},
   "outputs": [
    {
     "data": {
      "text/html": [
       "<div>\n",
       "<style scoped>\n",
       "    .dataframe tbody tr th:only-of-type {\n",
       "        vertical-align: middle;\n",
       "    }\n",
       "\n",
       "    .dataframe tbody tr th {\n",
       "        vertical-align: top;\n",
       "    }\n",
       "\n",
       "    .dataframe thead th {\n",
       "        text-align: right;\n",
       "    }\n",
       "</style>\n",
       "<table border=\"1\" class=\"dataframe\">\n",
       "  <thead>\n",
       "    <tr style=\"text-align: right;\">\n",
       "      <th></th>\n",
       "      <th>Year</th>\n",
       "      <th>Month</th>\n",
       "      <th>Crude Oil Price</th>\n",
       "      <th>Production</th>\n",
       "      <th>Crude Oil Export</th>\n",
       "    </tr>\n",
       "  </thead>\n",
       "  <tbody>\n",
       "    <tr>\n",
       "      <th>0</th>\n",
       "      <td>2006</td>\n",
       "      <td>1</td>\n",
       "      <td>63.85</td>\n",
       "      <td>2.59</td>\n",
       "      <td>2.14</td>\n",
       "    </tr>\n",
       "    <tr>\n",
       "      <th>1</th>\n",
       "      <td>2006</td>\n",
       "      <td>2</td>\n",
       "      <td>61.33</td>\n",
       "      <td>2.47</td>\n",
       "      <td>2.02</td>\n",
       "    </tr>\n",
       "    <tr>\n",
       "      <th>2</th>\n",
       "      <td>2006</td>\n",
       "      <td>3</td>\n",
       "      <td>65.00</td>\n",
       "      <td>2.25</td>\n",
       "      <td>1.80</td>\n",
       "    </tr>\n",
       "  </tbody>\n",
       "</table>\n",
       "</div>"
      ],
      "text/plain": [
       "   Year  Month  Crude Oil Price  Production  Crude Oil Export\n",
       "0  2006      1            63.85        2.59              2.14\n",
       "1  2006      2            61.33        2.47              2.02\n",
       "2  2006      3            65.00        2.25              1.80"
      ]
     },
     "execution_count": 19,
     "metadata": {},
     "output_type": "execute_result"
    }
   ],
   "source": [
    "url = './datasets/crudeoil.csv'\n",
    "df = pd.read_csv(url)\n",
    "del df[\"Unnamed: 5\"]\n",
    "df.head(3)"
   ]
  },
  {
   "cell_type": "code",
   "execution_count": 20,
   "id": "aff45206-fd0d-42f7-8ef2-3bd76ca107e0",
   "metadata": {},
   "outputs": [
    {
     "data": {
      "text/plain": [
       "Index(['Year', 'Month', 'Crude Oil Price', 'Production', 'Crude Oil Export'], dtype='object')"
      ]
     },
     "execution_count": 20,
     "metadata": {},
     "output_type": "execute_result"
    }
   ],
   "source": [
    "df.columns"
   ]
  },
  {
   "cell_type": "code",
   "execution_count": 21,
   "id": "7220aa63-2c28-4fec-8f30-02e9d6c0b6ea",
   "metadata": {},
   "outputs": [],
   "source": [
    "x = df[\"Production\"]\n",
    "y = df[\"Crude Oil Export\"]"
   ]
  },
  {
   "cell_type": "code",
   "execution_count": 22,
   "id": "df07d62a-fda4-484f-8561-3fc88f4c0695",
   "metadata": {},
   "outputs": [
    {
     "data": {
      "text/plain": [
       "<matplotlib.collections.PathCollection at 0x1a25122cb50>"
      ]
     },
     "execution_count": 22,
     "metadata": {},
     "output_type": "execute_result"
    },
    {
     "data": {
      "image/png": "[encoded data removed]",
      "text/plain": [
       "<Figure size 432x288 with 1 Axes>"
      ]
     },
     "metadata": {
      "needs_background": "light"
     },
     "output_type": "display_data"
    }
   ],
   "source": [
    "plt.scatter(x,y)"
   ]
  },
  {
   "cell_type": "code",
   "execution_count": 28,
   "id": "5fcde1be-1fa0-487b-8fad-23e6ce104bed",
   "metadata": {},
   "outputs": [],
   "source": [
    "speed = [92, 86, 80, 87, 100, 86,\n",
    "         94, 78, 77, 86]\n",
    "weight = [998, 1002, 1012,1034, 995, 1105,\n",
    "          1150, 1230,1340,1450]"
   ]
  },
  {
   "cell_type": "code",
   "execution_count": 31,
   "id": "8b5f009b-03e2-4d6e-a85a-db2d4180e043",
   "metadata": {},
   "outputs": [],
   "source": [
    "# speed and weigth of different buses given above"
   ]
  },
  {
   "cell_type": "code",
   "execution_count": 32,
   "id": "8e25230c-33f8-4080-87c9-497517edde51",
   "metadata": {},
   "outputs": [
    {
     "data": {
      "text/plain": [
       "<matplotlib.collections.PathCollection at 0x1a2511daf40>"
      ]
     },
     "execution_count": 32,
     "metadata": {},
     "output_type": "execute_result"
    },
    {
     "data": {
      "image/png": "[encoded data removed]",
      "text/plain": [
       "<Figure size 432x288 with 1 Axes>"
      ]
     },
     "metadata": {
      "needs_background": "light"
     },
     "output_type": "display_data"
    }
   ],
   "source": [
    "plt.title(\"speed vs weight\")\n",
    "plt.xlabel(\"speed (km/s)\")\n",
    "plt.ylabel(\"weight (kg)\")\n",
    "plt.scatter(speed, weight)"
   ]
  },
  {
   "cell_type": "code",
   "execution_count": 33,
   "id": "a62ca009-f98d-484e-8543-581b53bc2e66",
   "metadata": {},
   "outputs": [
    {
     "data": {
      "text/plain": [
       "LinregressResult(slope=-9.716694772344011, intercept=1973.0657672849911, rvalue=-0.43875135020573985, pvalue=0.2046277368923375, stderr=7.035996711948861, intercept_stderr=611.2414577861189)"
      ]
     },
     "execution_count": 33,
     "metadata": {},
     "output_type": "execute_result"
    }
   ],
   "source": [
    "# check linear regression using the stats module \n",
    "\n",
    "stats.linregress(speed, weight)"
   ]
  },
  {
   "cell_type": "code",
   "execution_count": 35,
   "id": "4c5a5cb2-24fa-45fa-bc77-92dd41420a6f",
   "metadata": {},
   "outputs": [],
   "source": [
    "# destructuring\n",
    "slope, intercept, r,p,stderr = stats.linregress(speed, weight)"
   ]
  },
  {
   "cell_type": "code",
   "execution_count": 36,
   "id": "fd2aaabf-96fe-4952-8a20-0a4de26d6db9",
   "metadata": {},
   "outputs": [
    {
     "data": {
      "text/plain": [
       "-9.716694772344011"
      ]
     },
     "execution_count": 36,
     "metadata": {},
     "output_type": "execute_result"
    }
   ],
   "source": [
    "slope"
   ]
  },
  {
   "cell_type": "code",
   "execution_count": 37,
   "id": "fd227c46-09f1-4ff9-965c-fd5e7f27fdde",
   "metadata": {},
   "outputs": [
    {
     "data": {
      "text/plain": [
       "[<matplotlib.lines.Line2D at 0x1a25208d700>]"
      ]
     },
     "execution_count": 37,
     "metadata": {},
     "output_type": "execute_result"
    },
    {
     "data": {
      "image/png": "[encoded data removed]",
      "text/plain": [
       "<Figure size 432x288 with 1 Axes>"
      ]
     },
     "metadata": {
      "needs_background": "light"
     },
     "output_type": "display_data"
    }
   ],
   "source": [
    "# y = mx + c\n",
    "\n",
    "# create a function to get new values of y \n",
    "\n",
    "def myFunc(x):\n",
    "    return slope * x + intercept \n",
    "\n",
    "# run each value of x through the function\n",
    "# this will give us new values of y \n",
    "\n",
    "new_y = list(map(myFunc, speed))\n",
    "\n",
    "\n",
    "# draw scatter plot \n",
    "plt.scatter(speed, weight)\n",
    "\n",
    "# draw the line\n",
    "plt.xlabel('bus speeds')\n",
    "plt.ylabel('weight')\n",
    "plt.plot(speed, new_y)"
   ]
  },
  {
   "cell_type": "code",
   "execution_count": 38,
   "id": "03bb8127-a0ba-4053-8496-052ee70fba1a",
   "metadata": {},
   "outputs": [
    {
     "name": "stdout",
     "output_type": "stream",
     "text": [
      "1069.413153456998\n"
     ]
    }
   ],
   "source": [
    "# find the weight of a bus moving at 93\n",
    "\n",
    "w = myFunc(93)\n",
    "\n",
    "print(w)"
   ]
  },
  {
   "cell_type": "code",
   "execution_count": 39,
   "id": "0308103d-735e-4ae5-bba8-9b9c93ebdaaa",
   "metadata": {},
   "outputs": [],
   "source": [
    "# the r value (-0.43...) shows us that linear regression doest give the best fit"
   ]
  },
  {
   "cell_type": "code",
   "execution_count": 40,
   "id": "8636808f-29ae-4664-895a-a554e121fcac",
   "metadata": {},
   "outputs": [],
   "source": [
    "# ploynomial regression\n",
    "\n",
    "model = np.poly1d(np.polyfit(speed, weight, 3))\n"
   ]
  },
  {
   "cell_type": "code",
   "execution_count": 42,
   "id": "67faa924-fe3e-451f-8be9-dd882fc083fa",
   "metadata": {},
   "outputs": [
    {
     "name": "stdout",
     "output_type": "stream",
     "text": [
      "1111.211556589682\n"
     ]
    }
   ],
   "source": [
    "print(model(93))"
   ]
  },
  {
   "cell_type": "code",
   "execution_count": 43,
   "id": "0f3bfaef-06ca-45db-98a1-d29cfa525d36",
   "metadata": {},
   "outputs": [
    {
     "data": {
      "text/plain": [
       "poly1d([-1.04317673e-01,  2.78279000e+01, -2.47285056e+03,  7.43114568e+04])"
      ]
     },
     "execution_count": 43,
     "metadata": {},
     "output_type": "execute_result"
    }
   ],
   "source": [
    "model"
   ]
  },
  {
   "cell_type": "code",
   "execution_count": 53,
   "id": "1405059a-db3e-4c0d-85ea-6a400c44e573",
   "metadata": {},
   "outputs": [
    {
     "data": {
      "text/plain": [
       "[<matplotlib.lines.Line2D at 0x1a254598f40>]"
      ]
     },
     "execution_count": 53,
     "metadata": {},
     "output_type": "execute_result"
    },
    {
     "data": {
      "image/png": "[encoded data removed]",
      "text/plain": [
       "<Figure size 432x288 with 1 Axes>"
      ]
     },
     "metadata": {
      "needs_background": "light"
     },
     "output_type": "display_data"
    }
   ],
   "source": [
    "plt.scatter(speed,weight)\n",
    "myline = np.linspace(min(speed), max(speed) , 100) # line based on speed values\n",
    "plt.plot(myline, model(myline))"
   ]
  },
  {
   "cell_type": "markdown",
   "id": "9e582521-e0ff-4938-b459-cdcbf2decbed",
   "metadata": {},
   "source": [
    "# Pandas Methods for Data Cleaning, indexing and Grouping"
   ]
  },
  {
   "cell_type": "code",
   "execution_count": null,
   "id": "2a5970d0-5303-41f5-9bfa-0f905f11f914",
   "metadata": {},
   "outputs": [],
   "source": []
  },
  {
   "cell_type": "code",
   "execution_count": null,
   "id": "69b6a851-581f-4f51-ba36-4bb96fda4532",
   "metadata": {},
   "outputs": [],
   "source": []
  }
 ],
 "metadata": {
  "kernelspec": {
   "display_name": "Python 3 (ipykernel)",
   "language": "python",
   "name": "python3"
  },
  "language_info": {
   "codemirror_mode": {
    "name": "ipython",
    "version": 3
   },
   "file_extension": ".py",
   "mimetype": "text/x-python",
   "name": "python",
   "nbconvert_exporter": "python",
   "pygments_lexer": "ipython3",
   "version": "3.9.7"
  }
 },
 "nbformat": 4,
 "nbformat_minor": 5
}
