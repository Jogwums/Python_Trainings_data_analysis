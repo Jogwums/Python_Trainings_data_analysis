{
 "cells": [
  {
   "cell_type": "markdown",
   "id": "e5c73a22-d035-4ecd-a5d2-d3fa6d9790e8",
   "metadata": {},
   "source": [
    "# Python Dict"
   ]
  },
  {
   "cell_type": "code",
   "execution_count": 6,
   "id": "f671878d-0edb-48cd-9e35-9321a635b3da",
   "metadata": {},
   "outputs": [],
   "source": [
    "Jonathan = {\"gender\":\"male\",\"job\":\"data analyst\",\n",
    "            \"hobby\":\"reading\",\"sports\":\"swimming\",\n",
    "           \"exp\":5}"
   ]
  },
  {
   "cell_type": "code",
   "execution_count": 7,
   "id": "e6db03cd-131a-445d-a7b5-cd72c3cb50ad",
   "metadata": {},
   "outputs": [
    {
     "name": "stdout",
     "output_type": "stream",
     "text": [
      "{'gender': 'male', 'job': 'data analyst', 'hobby': 'reading', 'sports': 'swimming', 'exp': 5} \n",
      " <class 'dict'>\n"
     ]
    }
   ],
   "source": [
    "print(Jonathan, '\\n',type(Jonathan))"
   ]
  },
  {
   "cell_type": "code",
   "execution_count": 8,
   "id": "09351236-fb76-45c1-9bf3-94e8c0b2184d",
   "metadata": {},
   "outputs": [],
   "source": [
    "person = {\"name\":\"James\",\n",
    "          \"age\":25,\"town\":\"lagos\",\"job\":\"musician\"}"
   ]
  },
  {
   "cell_type": "code",
   "execution_count": 9,
   "id": "52060234-2772-444c-b4c6-2e4da455f7f1",
   "metadata": {},
   "outputs": [
    {
     "name": "stdout",
     "output_type": "stream",
     "text": [
      "{'name': 'James', 'age': 25, 'town': 'lagos', 'job': 'musician'}\n"
     ]
    }
   ],
   "source": [
    "print(person)"
   ]
  },
  {
   "cell_type": "code",
   "execution_count": 10,
   "id": "00618f88-32da-4b01-9ca4-9be470b4dc88",
   "metadata": {},
   "outputs": [
    {
     "name": "stdout",
     "output_type": "stream",
     "text": [
      "<class 'dict'>\n"
     ]
    }
   ],
   "source": [
    "print(type(person))"
   ]
  },
  {
   "cell_type": "markdown",
   "id": "edb687e6-c75d-46bd-8c2e-c67aa9de46c3",
   "metadata": {},
   "source": [
    "### accessing dict values"
   ]
  },
  {
   "cell_type": "code",
   "execution_count": 11,
   "id": "f0b154b9-0f55-4676-9110-79813aa742d8",
   "metadata": {},
   "outputs": [
    {
     "name": "stdout",
     "output_type": "stream",
     "text": [
      "dict_keys(['gender', 'job', 'hobby', 'sports', 'exp'])\n"
     ]
    }
   ],
   "source": [
    "# what the keys in your dictionary\n",
    "\n",
    "print(Jonathan.keys())"
   ]
  },
  {
   "cell_type": "code",
   "execution_count": 12,
   "id": "2f4bda54-a06c-4936-a418-852fc66da907",
   "metadata": {},
   "outputs": [
    {
     "name": "stdout",
     "output_type": "stream",
     "text": [
      "data analyst\n"
     ]
    }
   ],
   "source": [
    "# access values using the keys\n",
    "\n",
    "print(Jonathan[\"job\"])"
   ]
  },
  {
   "cell_type": "code",
   "execution_count": 13,
   "id": "d234def4-f8da-4579-8711-f690268a6c8d",
   "metadata": {},
   "outputs": [
    {
     "name": "stdout",
     "output_type": "stream",
     "text": [
      "dict_keys(['name', 'age', 'town', 'job'])\n"
     ]
    }
   ],
   "source": [
    "print(person.keys())"
   ]
  },
  {
   "cell_type": "markdown",
   "id": "53e81192-4210-4c50-ade2-609865a52d61",
   "metadata": {},
   "source": [
    "#### dicts with mixed datatypes"
   ]
  },
  {
   "cell_type": "code",
   "execution_count": 14,
   "id": "f5debf70-d42f-4840-ba63-3c9da4afa920",
   "metadata": {},
   "outputs": [],
   "source": [
    "person = {\"gender\":\"male\",\n",
    "          \"job\":\"data analyst\",\n",
    "          \"hobby\":[\"reading\",\"sports\",\"swimming\"]}"
   ]
  },
  {
   "cell_type": "code",
   "execution_count": 20,
   "id": "61616f64-a72b-4d4b-a5b4-95d23affec91",
   "metadata": {},
   "outputs": [
    {
     "data": {
      "text/plain": [
       "['reading', 'sports']"
      ]
     },
     "execution_count": 20,
     "metadata": {},
     "output_type": "execute_result"
    }
   ],
   "source": [
    "# using list slicing to access the elements in the \n",
    "# hobby list\n",
    "person[\"hobby\"][0:2]"
   ]
  },
  {
   "cell_type": "code",
   "execution_count": 21,
   "id": "ab338893-16a7-41bd-9719-79f0718afd41",
   "metadata": {},
   "outputs": [
    {
     "data": {
      "text/plain": [
       "'reading'"
      ]
     },
     "execution_count": 21,
     "metadata": {},
     "output_type": "execute_result"
    }
   ],
   "source": [
    "# first element\n",
    "person[\"hobby\"][0]"
   ]
  },
  {
   "cell_type": "code",
   "execution_count": 22,
   "id": "13dc0433-8969-49d5-b69e-90a60314ab0f",
   "metadata": {},
   "outputs": [
    {
     "data": {
      "text/plain": [
       "'sports'"
      ]
     },
     "execution_count": 22,
     "metadata": {},
     "output_type": "execute_result"
    }
   ],
   "source": [
    "# 2nd element \n",
    "person[\"hobby\"][1]"
   ]
  },
  {
   "cell_type": "code",
   "execution_count": 23,
   "id": "a9bc51ea-ae0d-4a1f-ac20-c5b1ac5ca94c",
   "metadata": {},
   "outputs": [
    {
     "data": {
      "text/plain": [
       "'swimming'"
      ]
     },
     "execution_count": 23,
     "metadata": {},
     "output_type": "execute_result"
    }
   ],
   "source": [
    "# 3rd element \n",
    "person[\"hobby\"][2]"
   ]
  },
  {
   "cell_type": "code",
   "execution_count": 24,
   "id": "59d10148-b66e-4b8f-a2a7-bec6e53e0d4d",
   "metadata": {},
   "outputs": [
    {
     "data": {
      "text/plain": [
       "'swimming'"
      ]
     },
     "execution_count": 24,
     "metadata": {},
     "output_type": "execute_result"
    }
   ],
   "source": [
    "# last element \n",
    "person[\"hobby\"][-1]"
   ]
  },
  {
   "cell_type": "markdown",
   "id": "5078f2ae-4d6c-41e7-821c-1ec70714a6ad",
   "metadata": {},
   "source": [
    "## slicing "
   ]
  },
  {
   "cell_type": "code",
   "execution_count": 25,
   "id": "baab7e4d-9e02-4358-9477-36e72268c23e",
   "metadata": {},
   "outputs": [],
   "source": [
    "# a method that allows you to get \n",
    "# multiple elements from your list "
   ]
  },
  {
   "cell_type": "code",
   "execution_count": 26,
   "id": "66007386-e12b-404f-810e-f25889c9761e",
   "metadata": {},
   "outputs": [],
   "source": [
    "fruits = ['apple','grape','orange','cherry']"
   ]
  },
  {
   "cell_type": "code",
   "execution_count": 28,
   "id": "abefd2d8-cc82-4b02-8756-7de5208fba74",
   "metadata": {},
   "outputs": [
    {
     "data": {
      "text/plain": [
       "['apple', 'grape', 'orange']"
      ]
     },
     "execution_count": 28,
     "metadata": {},
     "output_type": "execute_result"
    }
   ],
   "source": [
    "# get the first 3 elements \n",
    "\n",
    "fruits[0:3]"
   ]
  },
  {
   "cell_type": "code",
   "execution_count": 29,
   "id": "cf7c1c00-12ae-4193-98a0-398329abcb94",
   "metadata": {},
   "outputs": [
    {
     "data": {
      "text/plain": [
       "['apple', 'grape', 'orange', 'cherry']"
      ]
     },
     "execution_count": 29,
     "metadata": {},
     "output_type": "execute_result"
    }
   ],
   "source": [
    "# get all the elements\n",
    "\n",
    "fruits[0:]"
   ]
  },
  {
   "cell_type": "code",
   "execution_count": 30,
   "id": "bfe2fdb4-2eb7-4648-a36b-89f8a19ca201",
   "metadata": {},
   "outputs": [
    {
     "data": {
      "text/plain": [
       "['apple', 'grape']"
      ]
     },
     "execution_count": 30,
     "metadata": {},
     "output_type": "execute_result"
    }
   ],
   "source": [
    "fruits[:-2]"
   ]
  },
  {
   "cell_type": "code",
   "execution_count": 31,
   "id": "d8b2b496-c842-43e9-8b09-297c04cff2dc",
   "metadata": {},
   "outputs": [
    {
     "data": {
      "text/plain": [
       "['orange', 'cherry']"
      ]
     },
     "execution_count": 31,
     "metadata": {},
     "output_type": "execute_result"
    }
   ],
   "source": [
    "fruits[-2:]"
   ]
  },
  {
   "cell_type": "markdown",
   "id": "56c39c9e-c311-4cef-a157-9f9211734f4a",
   "metadata": {},
   "source": [
    "# List Methods and Dict methods"
   ]
  },
  {
   "cell_type": "code",
   "execution_count": 33,
   "id": "8a23c23f-efc0-4d56-8774-12843f9e0384",
   "metadata": {},
   "outputs": [],
   "source": [
    "# adding items to the list \n",
    "\n",
    "fruits.append(\"lime\")"
   ]
  },
  {
   "cell_type": "code",
   "execution_count": 34,
   "id": "4ad65eae-2cff-4777-8161-1e10293c579d",
   "metadata": {},
   "outputs": [
    {
     "data": {
      "text/plain": [
       "['apple', 'grape', 'orange', 'cherry', 'lime']"
      ]
     },
     "execution_count": 34,
     "metadata": {},
     "output_type": "execute_result"
    }
   ],
   "source": [
    "fruits"
   ]
  },
  {
   "cell_type": "code",
   "execution_count": 35,
   "id": "d46b3aa0-2dbc-4976-b412-dd7cffb9dacb",
   "metadata": {},
   "outputs": [],
   "source": [
    "# specify the location to add the new item\n",
    "\n",
    "fruits.insert(1,\"banana\")"
   ]
  },
  {
   "cell_type": "code",
   "execution_count": 36,
   "id": "abad11a4-8926-4a4c-8bfe-3a349bd48e1c",
   "metadata": {},
   "outputs": [
    {
     "data": {
      "text/plain": [
       "['apple', 'banana', 'grape', 'orange', 'cherry', 'lime']"
      ]
     },
     "execution_count": 36,
     "metadata": {},
     "output_type": "execute_result"
    }
   ],
   "source": [
    "fruits"
   ]
  },
  {
   "cell_type": "code",
   "execution_count": 37,
   "id": "009368f7-d38b-40ea-a981-4bdda230fe1a",
   "metadata": {},
   "outputs": [
    {
     "name": "stdout",
     "output_type": "stream",
     "text": [
      "fruits ['apple', 'banana', 'grape', 'orange', 'cherry', 'lime']\n",
      "new fruits ['mango', 'watermelon']\n",
      "******************************\n",
      "extended fruits ['apple', 'banana', 'grape', 'orange', 'cherry', 'lime', 'mango', 'watermelon']\n"
     ]
    }
   ],
   "source": [
    "# add multiple items \n",
    "# use the extend method\n",
    "\n",
    "new_fruits = ['mango','watermelon']\n",
    "\n",
    "print('fruits', fruits)\n",
    "print('new fruits', new_fruits)\n",
    "\n",
    "fruits.extend(new_fruits)\n",
    "print('*'*30)\n",
    "print('extended fruits', fruits)\n"
   ]
  },
  {
   "cell_type": "code",
   "execution_count": 38,
   "id": "ad93b295-95f9-48e3-ab8d-bd02f4370f3c",
   "metadata": {},
   "outputs": [],
   "source": [
    "# delete items from your list\n",
    "# pop()\n",
    "# remove ()\n",
    "# del keyword"
   ]
  },
  {
   "cell_type": "code",
   "execution_count": 39,
   "id": "7dcf4a2a-b496-4cd3-a510-59876b84b0ac",
   "metadata": {},
   "outputs": [],
   "source": [
    "# pop()"
   ]
  },
  {
   "cell_type": "code",
   "execution_count": 40,
   "id": "7ecd02bd-b485-4ddd-90f3-98c0966d5bf8",
   "metadata": {},
   "outputs": [
    {
     "data": {
      "text/plain": [
       "['apple', 'banana', 'grape', 'orange', 'cherry', 'lime', 'mango', 'watermelon']"
      ]
     },
     "execution_count": 40,
     "metadata": {},
     "output_type": "execute_result"
    }
   ],
   "source": [
    "fruits"
   ]
  },
  {
   "cell_type": "code",
   "execution_count": 41,
   "id": "e132c6f5-283e-4b21-a252-861df646bd43",
   "metadata": {},
   "outputs": [
    {
     "data": {
      "text/plain": [
       "'watermelon'"
      ]
     },
     "execution_count": 41,
     "metadata": {},
     "output_type": "execute_result"
    }
   ],
   "source": [
    "fruits.pop() # removes the last element"
   ]
  },
  {
   "cell_type": "code",
   "execution_count": 42,
   "id": "b1e7645c-9adf-4623-b399-101e5de567e1",
   "metadata": {},
   "outputs": [
    {
     "data": {
      "text/plain": [
       "['apple', 'banana', 'grape', 'orange', 'cherry', 'lime', 'mango']"
      ]
     },
     "execution_count": 42,
     "metadata": {},
     "output_type": "execute_result"
    }
   ],
   "source": [
    "fruits"
   ]
  },
  {
   "cell_type": "code",
   "execution_count": 44,
   "id": "0690166c-732a-4670-943b-86d58cb964f2",
   "metadata": {},
   "outputs": [],
   "source": [
    "# deleting a specific item\n",
    "# use remove()\n",
    "\n",
    "fruits.remove('lime')"
   ]
  },
  {
   "cell_type": "code",
   "execution_count": 45,
   "id": "c7907f80-fb8f-4566-841c-25128981a4df",
   "metadata": {},
   "outputs": [
    {
     "data": {
      "text/plain": [
       "['apple', 'banana', 'grape', 'orange', 'cherry', 'mango']"
      ]
     },
     "execution_count": 45,
     "metadata": {},
     "output_type": "execute_result"
    }
   ],
   "source": [
    "fruits"
   ]
  },
  {
   "cell_type": "code",
   "execution_count": 46,
   "id": "ffcb663a-9dd1-4be9-b6dd-26e40799e3c3",
   "metadata": {},
   "outputs": [],
   "source": [
    "# pop () takes an index no OR no index no"
   ]
  },
  {
   "cell_type": "code",
   "execution_count": 47,
   "id": "f1e4219c-8760-456e-8709-4d481968b1c2",
   "metadata": {},
   "outputs": [
    {
     "name": "stdout",
     "output_type": "stream",
     "text": [
      "['apple', 'banana', 'grape', 'orange', 'cherry', 'mango']\n",
      "['apple', 'banana', 'orange', 'cherry', 'mango']\n"
     ]
    }
   ],
   "source": [
    "print(fruits)\n",
    "\n",
    "fruits.pop(2) # pop index no 2\n",
    "\n",
    "print(fruits)"
   ]
  },
  {
   "cell_type": "code",
   "execution_count": 48,
   "id": "a6253f3f-3e0e-4b64-bbde-1b13cb7ed1da",
   "metadata": {},
   "outputs": [
    {
     "name": "stdout",
     "output_type": "stream",
     "text": [
      "['apple', 'banana', 'orange', 'cherry', 'mango']\n",
      "apple\n",
      "['banana', 'orange', 'cherry', 'mango']\n"
     ]
    }
   ],
   "source": [
    "# del keyword\n",
    "\n",
    "# use indexing\n",
    "\n",
    "print(fruits)\n",
    "\n",
    "print(fruits[0])\n",
    "\n",
    "del fruits[0]\n",
    "\n",
    "print(fruits)"
   ]
  },
  {
   "cell_type": "code",
   "execution_count": 49,
   "id": "a87ed355-026e-409a-a256-31a41562dd08",
   "metadata": {},
   "outputs": [],
   "source": [
    "# to clear the entire list, use del without indexing"
   ]
  },
  {
   "cell_type": "code",
   "execution_count": null,
   "id": "08951012-1b04-47b9-9a40-06d6848d207c",
   "metadata": {},
   "outputs": [],
   "source": [
    "del fruits"
   ]
  },
  {
   "cell_type": "markdown",
   "id": "28b3b70c-d504-4026-96e1-0ae737e3d39a",
   "metadata": {},
   "source": [
    "# Checking the Keywords in Python"
   ]
  },
  {
   "cell_type": "code",
   "execution_count": 51,
   "id": "94441240-2796-4da2-9ba9-75152e7992cf",
   "metadata": {},
   "outputs": [],
   "source": [
    "import keyword"
   ]
  },
  {
   "cell_type": "code",
   "execution_count": 55,
   "id": "f7ad6a72-f836-418c-b0e9-e765195ab7de",
   "metadata": {},
   "outputs": [
    {
     "name": "stdout",
     "output_type": "stream",
     "text": [
      "['False', 'None', 'True', '__peg_parser__', 'and', 'as', 'assert', 'async', 'await', 'break', 'class', 'continue', 'def', 'del', 'elif', 'else', 'except', 'finally', 'for', 'from', 'global', 'if', 'import', 'in', 'is', 'lambda', 'nonlocal', 'not', 'or', 'pass', 'raise', 'return', 'try', 'while', 'with', 'yield']\n"
     ]
    }
   ],
   "source": [
    "print(keyword.kwlist)"
   ]
  },
  {
   "cell_type": "code",
   "execution_count": null,
   "id": "8fd2b3c7-2414-48da-b136-c8de7d164aa8",
   "metadata": {},
   "outputs": [],
   "source": []
  },
  {
   "cell_type": "markdown",
   "id": "fdba60a9-5b51-4082-82a0-125ab535785b",
   "metadata": {},
   "source": [
    "# Functions"
   ]
  },
  {
   "cell_type": "code",
   "execution_count": 56,
   "id": "dbb97fba-f61c-4ac2-885c-166a4dd5af17",
   "metadata": {},
   "outputs": [],
   "source": [
    "# a block of code that only runs when \n",
    "# it is invoked or called"
   ]
  },
  {
   "cell_type": "code",
   "execution_count": 57,
   "id": "166d071a-f460-4d07-a006-d92bfe3ba36a",
   "metadata": {},
   "outputs": [],
   "source": [
    "def greet():\n",
    "    return \"Hello\""
   ]
  },
  {
   "cell_type": "code",
   "execution_count": 58,
   "id": "c45d121b-b4c4-44a5-acc7-f61aba09894f",
   "metadata": {},
   "outputs": [
    {
     "data": {
      "text/plain": [
       "'Hello'"
      ]
     },
     "execution_count": 58,
     "metadata": {},
     "output_type": "execute_result"
    }
   ],
   "source": [
    "greet()"
   ]
  },
  {
   "cell_type": "code",
   "execution_count": 59,
   "id": "ff81675e-6eba-4dc1-88c9-4806df4db1a0",
   "metadata": {},
   "outputs": [],
   "source": [
    "# you can pass data into a function (parameters)\n",
    "# return data as a result"
   ]
  },
  {
   "cell_type": "code",
   "execution_count": 60,
   "id": "17d851c2-3dcd-4663-ae00-e0f372231371",
   "metadata": {},
   "outputs": [],
   "source": [
    "# create a function to add 2 numbers"
   ]
  },
  {
   "cell_type": "code",
   "execution_count": 61,
   "id": "bbc9bada-679f-45ff-8f88-fb5cca4bcf1a",
   "metadata": {},
   "outputs": [],
   "source": [
    "def addNos(no1, no2):\n",
    "    # code block\n",
    "    result = no1 + no2\n",
    "    return result"
   ]
  },
  {
   "cell_type": "code",
   "execution_count": 62,
   "id": "ff30c0da-910e-4cef-8291-81725c492ee2",
   "metadata": {},
   "outputs": [
    {
     "data": {
      "text/plain": [
       "5"
      ]
     },
     "execution_count": 62,
     "metadata": {},
     "output_type": "execute_result"
    }
   ],
   "source": [
    "addNos(2,3)"
   ]
  },
  {
   "cell_type": "code",
   "execution_count": 64,
   "id": "366e223e-68c0-4536-85c5-8c95aa793f94",
   "metadata": {},
   "outputs": [],
   "source": [
    "# create a function to calculate the area of a triangle\n",
    "# formula: 1/2 *base*height"
   ]
  },
  {
   "cell_type": "code",
   "execution_count": 68,
   "id": "8cf8e5f6-4fe5-4b60-84d8-9a0c74f58590",
   "metadata": {},
   "outputs": [],
   "source": [
    "def calAreaTri(base,height):\n",
    "    area = 0.5 * base * height\n",
    "    return area"
   ]
  },
  {
   "cell_type": "code",
   "execution_count": 66,
   "id": "3dcaab3d-7f1b-47ab-b379-02ba774c42fc",
   "metadata": {},
   "outputs": [
    {
     "data": {
      "text/plain": [
       "60.0"
      ]
     },
     "execution_count": 66,
     "metadata": {},
     "output_type": "execute_result"
    }
   ],
   "source": [
    "# triangle base = 10, height = 12\n",
    "# find the area\n",
    "\n",
    "calAreaTri(10,12)"
   ]
  },
  {
   "cell_type": "code",
   "execution_count": 69,
   "id": "241f1868-e999-4d75-8556-2fd680a359b6",
   "metadata": {},
   "outputs": [
    {
     "data": {
      "text/plain": [
       "'jamesjohn'"
      ]
     },
     "execution_count": 69,
     "metadata": {},
     "output_type": "execute_result"
    }
   ],
   "source": [
    "addNos('james','john')"
   ]
  },
  {
   "cell_type": "code",
   "execution_count": null,
   "id": "f9014394-492c-490e-9e79-ed846b0086c8",
   "metadata": {},
   "outputs": [],
   "source": []
  }
 ],
 "metadata": {
  "kernelspec": {
   "display_name": "Python 3 (ipykernel)",
   "language": "python",
   "name": "python3"
  },
  "language_info": {
   "codemirror_mode": {
    "name": "ipython",
    "version": 3
   },
   "file_extension": ".py",
   "mimetype": "text/x-python",
   "name": "python",
   "nbconvert_exporter": "python",
   "pygments_lexer": "ipython3",
   "version": "3.9.7"
  }
 },
 "nbformat": 4,
 "nbformat_minor": 5
}
