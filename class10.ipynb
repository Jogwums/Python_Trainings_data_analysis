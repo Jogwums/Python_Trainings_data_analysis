{
 "cells": [
  {
   "cell_type": "markdown",
   "id": "274cbf4d-b14c-47b6-bd7b-03b26762135d",
   "metadata": {},
   "source": [
    "## Visualization in python cont'd"
   ]
  },
  {
   "cell_type": "code",
   "execution_count": 1,
   "id": "a028d95d-7fd5-4837-be49-50b5f81d5c7c",
   "metadata": {},
   "outputs": [
    {
     "name": "stdout",
     "output_type": "stream",
     "text": [
      "done\n"
     ]
    }
   ],
   "source": [
    "# set up your environment \n",
    "import numpy as np \n",
    "import pandas as pd\n",
    "import matplotlib\n",
    "from matplotlib import pyplot as plt\n",
    "import seaborn as sns \n",
    "\n",
    "print('done')"
   ]
  },
  {
   "cell_type": "markdown",
   "id": "39372dc7-1005-4fad-98cf-4e541b662bb7",
   "metadata": {},
   "source": [
    "# Seaborn \n",
    "### features"
   ]
  },
  {
   "cell_type": "markdown",
   "id": "8365872a-7eef-4cc7-a83b-39d310f61f5d",
   "metadata": {},
   "source": [
    "- inbuilt datasets\n",
    "\n",
    "- ploting "
   ]
  },
  {
   "cell_type": "code",
   "execution_count": 2,
   "id": "7bee6ff5-e2cc-4240-a52c-96580487622e",
   "metadata": {},
   "outputs": [
    {
     "data": {
      "text/plain": [
       "['anagrams',\n",
       " 'anscombe',\n",
       " 'attention',\n",
       " 'brain_networks',\n",
       " 'car_crashes',\n",
       " 'diamonds',\n",
       " 'dots',\n",
       " 'exercise',\n",
       " 'flights',\n",
       " 'fmri',\n",
       " 'gammas',\n",
       " 'geyser',\n",
       " 'iris',\n",
       " 'mpg',\n",
       " 'penguins',\n",
       " 'planets',\n",
       " 'taxis',\n",
       " 'tips',\n",
       " 'titanic']"
      ]
     },
     "execution_count": 2,
     "metadata": {},
     "output_type": "execute_result"
    }
   ],
   "source": [
    "# to view the datasets in seaborn \n",
    "\n",
    "# https://github.com/mwaskom/seaborn-data\n",
    "\n",
    "sns.get_dataset_names()"
   ]
  },
  {
   "cell_type": "code",
   "execution_count": 2,
   "id": "bde52648-92f8-4e50-8681-50efdc3a82d9",
   "metadata": {},
   "outputs": [],
   "source": [
    "tips = sns.load_dataset('tips')"
   ]
  },
  {
   "cell_type": "code",
   "execution_count": 3,
   "id": "c9a5ee1e-7890-4ab4-b7cd-dee2dd9fe83c",
   "metadata": {},
   "outputs": [],
   "source": [
    "titanic = sns.load_dataset('titanic')"
   ]
  },
  {
   "cell_type": "code",
   "execution_count": 4,
   "id": "85117334-5c4a-4e7f-9f9e-8723712826bd",
   "metadata": {},
   "outputs": [],
   "source": [
    "iris = sns.load_dataset('iris')"
   ]
  },
  {
   "cell_type": "code",
   "execution_count": 12,
   "id": "1e5cb5f7-370d-4bd1-ae2e-71429d5dac48",
   "metadata": {},
   "outputs": [
    {
     "data": {
      "text/html": [
       "<div>\n",
       "<style scoped>\n",
       "    .dataframe tbody tr th:only-of-type {\n",
       "        vertical-align: middle;\n",
       "    }\n",
       "\n",
       "    .dataframe tbody tr th {\n",
       "        vertical-align: top;\n",
       "    }\n",
       "\n",
       "    .dataframe thead th {\n",
       "        text-align: right;\n",
       "    }\n",
       "</style>\n",
       "<table border=\"1\" class=\"dataframe\">\n",
       "  <thead>\n",
       "    <tr style=\"text-align: right;\">\n",
       "      <th></th>\n",
       "      <th>survived</th>\n",
       "      <th>pclass</th>\n",
       "      <th>sex</th>\n",
       "      <th>age</th>\n",
       "      <th>sibsp</th>\n",
       "      <th>parch</th>\n",
       "      <th>fare</th>\n",
       "      <th>embarked</th>\n",
       "      <th>class</th>\n",
       "      <th>who</th>\n",
       "      <th>adult_male</th>\n",
       "      <th>deck</th>\n",
       "      <th>embark_town</th>\n",
       "      <th>alive</th>\n",
       "      <th>alone</th>\n",
       "    </tr>\n",
       "  </thead>\n",
       "  <tbody>\n",
       "    <tr>\n",
       "      <th>0</th>\n",
       "      <td>0</td>\n",
       "      <td>3</td>\n",
       "      <td>male</td>\n",
       "      <td>22.0</td>\n",
       "      <td>1</td>\n",
       "      <td>0</td>\n",
       "      <td>7.2500</td>\n",
       "      <td>S</td>\n",
       "      <td>Third</td>\n",
       "      <td>man</td>\n",
       "      <td>True</td>\n",
       "      <td>NaN</td>\n",
       "      <td>Southampton</td>\n",
       "      <td>no</td>\n",
       "      <td>False</td>\n",
       "    </tr>\n",
       "    <tr>\n",
       "      <th>1</th>\n",
       "      <td>1</td>\n",
       "      <td>1</td>\n",
       "      <td>female</td>\n",
       "      <td>38.0</td>\n",
       "      <td>1</td>\n",
       "      <td>0</td>\n",
       "      <td>71.2833</td>\n",
       "      <td>C</td>\n",
       "      <td>First</td>\n",
       "      <td>woman</td>\n",
       "      <td>False</td>\n",
       "      <td>C</td>\n",
       "      <td>Cherbourg</td>\n",
       "      <td>yes</td>\n",
       "      <td>False</td>\n",
       "    </tr>\n",
       "    <tr>\n",
       "      <th>2</th>\n",
       "      <td>1</td>\n",
       "      <td>3</td>\n",
       "      <td>female</td>\n",
       "      <td>26.0</td>\n",
       "      <td>0</td>\n",
       "      <td>0</td>\n",
       "      <td>7.9250</td>\n",
       "      <td>S</td>\n",
       "      <td>Third</td>\n",
       "      <td>woman</td>\n",
       "      <td>False</td>\n",
       "      <td>NaN</td>\n",
       "      <td>Southampton</td>\n",
       "      <td>yes</td>\n",
       "      <td>True</td>\n",
       "    </tr>\n",
       "  </tbody>\n",
       "</table>\n",
       "</div>"
      ],
      "text/plain": [
       "   survived  pclass     sex   age  sibsp  parch     fare embarked  class  \\\n",
       "0         0       3    male  22.0      1      0   7.2500        S  Third   \n",
       "1         1       1  female  38.0      1      0  71.2833        C  First   \n",
       "2         1       3  female  26.0      0      0   7.9250        S  Third   \n",
       "\n",
       "     who  adult_male deck  embark_town alive  alone  \n",
       "0    man        True  NaN  Southampton    no  False  \n",
       "1  woman       False    C    Cherbourg   yes  False  \n",
       "2  woman       False  NaN  Southampton   yes   True  "
      ]
     },
     "execution_count": 12,
     "metadata": {},
     "output_type": "execute_result"
    }
   ],
   "source": [
    "titanic.head(3)"
   ]
  },
  {
   "cell_type": "code",
   "execution_count": 13,
   "id": "0dc7980d-abc1-4fd7-b309-3d00f2be22e4",
   "metadata": {},
   "outputs": [
    {
     "data": {
      "text/plain": [
       "(891, 15)"
      ]
     },
     "execution_count": 13,
     "metadata": {},
     "output_type": "execute_result"
    }
   ],
   "source": [
    "titanic.shape"
   ]
  },
  {
   "cell_type": "code",
   "execution_count": 14,
   "id": "b826ae6d-f637-4271-b938-fb9048978295",
   "metadata": {},
   "outputs": [
    {
     "name": "stdout",
     "output_type": "stream",
     "text": [
      "<class 'pandas.core.frame.DataFrame'>\n",
      "RangeIndex: 891 entries, 0 to 890\n",
      "Data columns (total 15 columns):\n",
      " #   Column       Non-Null Count  Dtype   \n",
      "---  ------       --------------  -----   \n",
      " 0   survived     891 non-null    int64   \n",
      " 1   pclass       891 non-null    int64   \n",
      " 2   sex          891 non-null    object  \n",
      " 3   age          714 non-null    float64 \n",
      " 4   sibsp        891 non-null    int64   \n",
      " 5   parch        891 non-null    int64   \n",
      " 6   fare         891 non-null    float64 \n",
      " 7   embarked     889 non-null    object  \n",
      " 8   class        891 non-null    category\n",
      " 9   who          891 non-null    object  \n",
      " 10  adult_male   891 non-null    bool    \n",
      " 11  deck         203 non-null    category\n",
      " 12  embark_town  889 non-null    object  \n",
      " 13  alive        891 non-null    object  \n",
      " 14  alone        891 non-null    bool    \n",
      "dtypes: bool(2), category(2), float64(2), int64(4), object(5)\n",
      "memory usage: 80.7+ KB\n"
     ]
    }
   ],
   "source": [
    "titanic.info()"
   ]
  },
  {
   "cell_type": "code",
   "execution_count": 15,
   "id": "b2faed09-e44f-4790-9569-f143709c2a6a",
   "metadata": {},
   "outputs": [
    {
     "data": {
      "text/plain": [
       "survived         0\n",
       "pclass           0\n",
       "sex              0\n",
       "age            177\n",
       "sibsp            0\n",
       "parch            0\n",
       "fare             0\n",
       "embarked         2\n",
       "class            0\n",
       "who              0\n",
       "adult_male       0\n",
       "deck           688\n",
       "embark_town      2\n",
       "alive            0\n",
       "alone            0\n",
       "dtype: int64"
      ]
     },
     "execution_count": 15,
     "metadata": {},
     "output_type": "execute_result"
    }
   ],
   "source": [
    "titanic.isna().sum() # no. of row with NA values "
   ]
  },
  {
   "cell_type": "code",
   "execution_count": 18,
   "id": "85512ccc-f0ad-4c32-9ce7-c2b241004bed",
   "metadata": {},
   "outputs": [
    {
     "data": {
      "text/plain": [
       "survived         0\n",
       "pclass           0\n",
       "sex              0\n",
       "age            177\n",
       "sibsp            0\n",
       "parch            0\n",
       "fare             0\n",
       "embarked         2\n",
       "class            0\n",
       "who              0\n",
       "adult_male       0\n",
       "deck           688\n",
       "embark_town      2\n",
       "alive            0\n",
       "alone            0\n",
       "dtype: int64"
      ]
     },
     "execution_count": 18,
     "metadata": {},
     "output_type": "execute_result"
    }
   ],
   "source": [
    "titanic.isnull().sum()"
   ]
  },
  {
   "cell_type": "markdown",
   "id": "50c95e9e-13cb-4725-bf2a-6bfdadac8442",
   "metadata": {},
   "source": [
    "# plotting with seaborn"
   ]
  },
  {
   "cell_type": "code",
   "execution_count": 19,
   "id": "af50070b-649c-40ff-8e15-83e16377fded",
   "metadata": {},
   "outputs": [],
   "source": [
    "# there are diff kinds of plots e.g catplot, histplot etc."
   ]
  },
  {
   "cell_type": "code",
   "execution_count": 20,
   "id": "5220577a-8f9f-4d27-bfcc-8b8784f15393",
   "metadata": {},
   "outputs": [
    {
     "data": {
      "text/plain": [
       "Index(['survived', 'pclass', 'sex', 'age', 'sibsp', 'parch', 'fare',\n",
       "       'embarked', 'class', 'who', 'adult_male', 'deck', 'embark_town',\n",
       "       'alive', 'alone'],\n",
       "      dtype='object')"
      ]
     },
     "execution_count": 20,
     "metadata": {},
     "output_type": "execute_result"
    }
   ],
   "source": [
    "titanic.columns"
   ]
  },
  {
   "cell_type": "code",
   "execution_count": 29,
   "id": "e45f32a1-5122-4c72-80c2-9890df8eb334",
   "metadata": {},
   "outputs": [
    {
     "data": {
      "text/plain": [
       "<seaborn.axisgrid.FacetGrid at 0x200965d2970>"
      ]
     },
     "execution_count": 29,
     "metadata": {},
     "output_type": "execute_result"
    },
    {
     "data": {
      "image/png": "[encoded data removed]",
      "text/plain": [
       "<Figure size 360x360 with 1 Axes>"
      ]
     },
     "metadata": {
      "needs_background": "light"
     },
     "output_type": "display_data"
    }
   ],
   "source": [
    "sns.catplot(data=titanic, kind='bar', y='fare',x='pclass')"
   ]
  },
  {
   "cell_type": "code",
   "execution_count": 5,
   "id": "3efa58b1-bfd3-4527-bd74-30eb434064e8",
   "metadata": {},
   "outputs": [
    {
     "data": {
      "text/plain": [
       "<AxesSubplot:xlabel='age', ylabel='fare'>"
      ]
     },
     "execution_count": 5,
     "metadata": {},
     "output_type": "execute_result"
    },
    {
     "data": {
      "image/png": "[encoded data removed]",
      "text/plain": [
       "<Figure size 720x432 with 1 Axes>"
      ]
     },
     "metadata": {
      "needs_background": "light"
     },
     "output_type": "display_data"
    }
   ],
   "source": [
    "# sns.set_style('darkgrid') # add matplot style\n",
    "plt.figure(figsize=(10,6)) # customise fig size\n",
    "sns.scatterplot(data=titanic, y='fare',x='age')"
   ]
  },
  {
   "cell_type": "markdown",
   "id": "a3f692c5-577a-42d8-a38a-de65051a9c3f",
   "metadata": {},
   "source": [
    "### matplot vs seaborn plot"
   ]
  },
  {
   "cell_type": "code",
   "execution_count": 6,
   "id": "1f036dc7-8b74-4bcf-a8b3-9b159d05e88e",
   "metadata": {},
   "outputs": [],
   "source": [
    "def sinplot(flip=1):\n",
    "    x = np.linspace(0,14,100)\n",
    "    for i in range(1,7):\n",
    "        plt.plot(x, np.sin(x + i * 5)* (7 - i) * flip)"
   ]
  },
  {
   "cell_type": "code",
   "execution_count": 7,
   "id": "2f643de5-6c5e-4269-9d4c-d0d596206fb9",
   "metadata": {},
   "outputs": [
    {
     "data": {
      "image/png": "[encoded data removed]",
      "text/plain": [
       "<Figure size 432x288 with 1 Axes>"
      ]
     },
     "metadata": {
      "needs_background": "light"
     },
     "output_type": "display_data"
    }
   ],
   "source": [
    "sinplot()"
   ]
  },
  {
   "cell_type": "code",
   "execution_count": 8,
   "id": "60c1ad77-7cac-4682-a3a8-eaf8cbd936c1",
   "metadata": {},
   "outputs": [
    {
     "data": {
      "image/png": "[encoded data removed]",
      "text/plain": [
       "<Figure size 432x288 with 1 Axes>"
      ]
     },
     "metadata": {},
     "output_type": "display_data"
    }
   ],
   "source": [
    "sns.set_theme()\n",
    "sinplot()"
   ]
  },
  {
   "cell_type": "markdown",
   "id": "0a4fe27b-84b3-4697-9471-773fc017b53b",
   "metadata": {},
   "source": [
    "# Statistical concepts"
   ]
  },
  {
   "cell_type": "markdown",
   "id": "059362d3-6d76-4f86-bcc1-116156b94e06",
   "metadata": {},
   "source": [
    "# Categorical Data"
   ]
  },
  {
   "cell_type": "markdown",
   "id": "dbe6906b-638c-43b3-80aa-3ae2e22b1b29",
   "metadata": {},
   "source": [
    "Examples :  Gender, hair color, jobs, race, educational qualification"
   ]
  },
  {
   "cell_type": "markdown",
   "id": "4cb3fc7d-602e-45cd-ab8a-8c7a0da825ff",
   "metadata": {},
   "source": [
    "Analysis of categorical data is usually best with the use of data tables "
   ]
  },
  {
   "cell_type": "markdown",
   "id": "d97b860d-bbdb-4a3d-9b55-fb907c83ca6c",
   "metadata": {},
   "source": [
    "Matrix - two-way table"
   ]
  },
  {
   "cell_type": "markdown",
   "id": "3f18e6fb-0d27-44ca-afe5-5d3bf917fa55",
   "metadata": {},
   "source": [
    "- present your categorical date by counting the number of observations\n",
    "\n",
    "- separating them into relevant  groups\n",
    "\n",
    "- e.g class survey, hair color and jobs "
   ]
  },
  {
   "cell_type": "markdown",
   "id": "d3479583-3132-443e-b9e4-40b517660294",
   "metadata": {},
   "source": [
    "# Nominal Data"
   ]
  },
  {
   "cell_type": "markdown",
   "id": "e2c0c097-8a3c-41c5-88bc-21857b7d035b",
   "metadata": {},
   "source": [
    "this is defined as data that is used for naming purpose. e.g naming or labelling"
   ]
  },
  {
   "cell_type": "markdown",
   "id": "e271b845-71dc-42c6-b312-b0288732d2ac",
   "metadata": {},
   "source": [
    "there is usually no instrinsic order to nominal data e.g country of origin, male or female(we can't say male comes before female)"
   ]
  },
  {
   "cell_type": "markdown",
   "id": "461b3c94-16c5-4f93-919b-517576b67f08",
   "metadata": {},
   "source": [
    "For analysis of nominal data - use percentage or mode of the distribution"
   ]
  },
  {
   "cell_type": "markdown",
   "id": "d2cc84d3-798d-4f44-8542-2767fa72f5e1",
   "metadata": {},
   "source": [
    "# Ordinal Data"
   ]
  },
  {
   "cell_type": "markdown",
   "id": "dc7fcf1d-09da-4381-a895-de6f7152defd",
   "metadata": {},
   "source": [
    "this type of categorical data has an order to the variables"
   ]
  },
  {
   "cell_type": "markdown",
   "id": "7295ae8b-7c9d-44e2-aab0-63e9613e0ba8",
   "metadata": {},
   "source": [
    "the variables are listed in an ordered manner, they are usually numbered to indicate the order of the list"
   ]
  },
  {
   "cell_type": "markdown",
   "id": "3e283d68-49b5-453e-b0ef-9f4d0834282d",
   "metadata": {},
   "source": [
    "For analysis of ordinal data -  use mean, mode, median, percentiles etc."
   ]
  },
  {
   "cell_type": "markdown",
   "id": "94bba343-a08b-4515-b477-bfbe994a491c",
   "metadata": {},
   "source": [
    "# Measures of central tendency "
   ]
  },
  {
   "cell_type": "code",
   "execution_count": 11,
   "id": "a9d25221-9d07-428c-9d6a-2b8b4b670290",
   "metadata": {},
   "outputs": [],
   "source": [
    "# mean, median, mode"
   ]
  },
  {
   "cell_type": "code",
   "execution_count": 12,
   "id": "4711a626-7553-4c3f-b35b-cb6d8ee066c0",
   "metadata": {},
   "outputs": [],
   "source": [
    "# mean is the average of a set of values"
   ]
  },
  {
   "cell_type": "code",
   "execution_count": 15,
   "id": "20a29198-df97-4aa8-8b79-3f5cb41e2e02",
   "metadata": {},
   "outputs": [],
   "source": [
    "avg = titanic.fare.sum() / len(titanic.fare)"
   ]
  },
  {
   "cell_type": "code",
   "execution_count": 17,
   "id": "7e662aa6-d4fb-462b-b1e4-dc6f135952d6",
   "metadata": {},
   "outputs": [
    {
     "data": {
      "text/plain": [
       "32.204207968574636"
      ]
     },
     "execution_count": 17,
     "metadata": {},
     "output_type": "execute_result"
    }
   ],
   "source": [
    "avg # average fare paid"
   ]
  },
  {
   "cell_type": "code",
   "execution_count": 20,
   "id": "80f202e4-f3bb-4334-95d2-bbd0e470f7c8",
   "metadata": {},
   "outputs": [],
   "source": [
    "# you create a function\n",
    "def findAvg(x):\n",
    "    \"\"\"this function calculates the average of a list of values\"\"\"\n",
    "    return sum(x) / len(x)"
   ]
  },
  {
   "cell_type": "code",
   "execution_count": 21,
   "id": "39032439-4944-42bc-a6bb-f604f577d182",
   "metadata": {},
   "outputs": [
    {
     "data": {
      "text/plain": [
       "32.2042079685746"
      ]
     },
     "execution_count": 21,
     "metadata": {},
     "output_type": "execute_result"
    }
   ],
   "source": [
    "findAvg(titanic.fare)"
   ]
  },
  {
   "cell_type": "code",
   "execution_count": 22,
   "id": "48e0641c-79dd-4758-b0b5-66459c44c800",
   "metadata": {},
   "outputs": [
    {
     "data": {
      "text/plain": [
       "\u001b[1;31mSignature:\u001b[0m \u001b[0mfindAvg\u001b[0m\u001b[1;33m(\u001b[0m\u001b[0mx\u001b[0m\u001b[1;33m)\u001b[0m\u001b[1;33m\u001b[0m\u001b[1;33m\u001b[0m\u001b[0m\n",
       "\u001b[1;31mDocstring:\u001b[0m this function calculates the average of a list of values\n",
       "\u001b[1;31mFile:\u001b[0m      c:\\users\\ogwumike\\appdata\\local\\temp\\ipykernel_13952\\788702630.py\n",
       "\u001b[1;31mType:\u001b[0m      function\n"
      ]
     },
     "metadata": {},
     "output_type": "display_data"
    }
   ],
   "source": [
    "findAvg?"
   ]
  },
  {
   "cell_type": "code",
   "execution_count": 36,
   "id": "0b199ae5-8fdd-4425-869a-5575d6d1a551",
   "metadata": {},
   "outputs": [
    {
     "data": {
      "text/plain": [
       "23.79929292929293"
      ]
     },
     "execution_count": 36,
     "metadata": {},
     "output_type": "execute_result"
    }
   ],
   "source": [
    "# clean the nans before finding the average\n",
    "titanic.age.fillna(0, inplace=True)\n",
    "findAvg(titanic.age)"
   ]
  },
  {
   "cell_type": "code",
   "execution_count": 37,
   "id": "6d8c756d-5c46-48a3-bb03-785fb6249151",
   "metadata": {},
   "outputs": [],
   "source": [
    "# Median \n",
    "# Middle value when the values are sorted"
   ]
  },
  {
   "cell_type": "code",
   "execution_count": 38,
   "id": "d1cf3e76-431b-40e8-a762-40f33dd808b8",
   "metadata": {},
   "outputs": [],
   "source": [
    "age = titanic.age"
   ]
  },
  {
   "cell_type": "code",
   "execution_count": 42,
   "id": "bd176161-b957-4039-8323-a2134f44e256",
   "metadata": {},
   "outputs": [],
   "source": [
    "age_sorted = age.sort_values() \n",
    "# pandas series use sort_values() to sort"
   ]
  },
  {
   "cell_type": "code",
   "execution_count": 46,
   "id": "fa437aad-8097-48d4-964e-fc1910535b27",
   "metadata": {},
   "outputs": [
    {
     "data": {
      "text/plain": [
       "4.0"
      ]
     },
     "execution_count": 46,
     "metadata": {},
     "output_type": "execute_result"
    }
   ],
   "source": [
    "age_sorted[len(age_sorted) // 2]"
   ]
  },
  {
   "cell_type": "code",
   "execution_count": 47,
   "id": "d99d2fb1-0ead-40ef-bc78-f8851be719f0",
   "metadata": {},
   "outputs": [
    {
     "data": {
      "text/plain": [
       "667     0.0\n",
       "128     0.0\n",
       "533     0.0\n",
       "284     0.0\n",
       "538     0.0\n",
       "       ... \n",
       "116    70.5\n",
       "493    71.0\n",
       "96     71.0\n",
       "851    74.0\n",
       "630    80.0\n",
       "Name: age, Length: 891, dtype: float64"
      ]
     },
     "execution_count": 47,
     "metadata": {},
     "output_type": "execute_result"
    }
   ],
   "source": [
    "age_sorted"
   ]
  },
  {
   "cell_type": "code",
   "execution_count": 64,
   "id": "c83dd947-6f44-4012-8326-4867cca08545",
   "metadata": {},
   "outputs": [],
   "source": [
    "prices = [45, 56, 34, 98, 12, 30, 29, 68, 25, 75, 65]"
   ]
  },
  {
   "cell_type": "code",
   "execution_count": 65,
   "id": "4f6540dd-f4c9-4efc-a0ba-44707a47175c",
   "metadata": {},
   "outputs": [
    {
     "data": {
      "text/plain": [
       "[45, 56, 34, 98, 12, 30, 29, 68, 25, 75, 65]"
      ]
     },
     "execution_count": 65,
     "metadata": {},
     "output_type": "execute_result"
    }
   ],
   "source": [
    "prices"
   ]
  },
  {
   "cell_type": "code",
   "execution_count": 66,
   "id": "603b0322-4e59-4b04-8ae9-9d5f88458f12",
   "metadata": {},
   "outputs": [],
   "source": [
    "prices.sort()"
   ]
  },
  {
   "cell_type": "code",
   "execution_count": 67,
   "id": "47d124be-d33a-4a96-b680-5015c299b972",
   "metadata": {},
   "outputs": [
    {
     "data": {
      "text/plain": [
       "[12, 25, 29, 30, 34, 45, 56, 65, 68, 75, 98]"
      ]
     },
     "execution_count": 67,
     "metadata": {},
     "output_type": "execute_result"
    }
   ],
   "source": [
    "prices"
   ]
  },
  {
   "cell_type": "code",
   "execution_count": 68,
   "id": "0c5e9380-b688-4900-903e-2691e74144d7",
   "metadata": {},
   "outputs": [],
   "source": [
    "no_prices = len(prices)"
   ]
  },
  {
   "cell_type": "code",
   "execution_count": 71,
   "id": "2ff52b12-ed5d-42ed-9343-6c5c1c8704bf",
   "metadata": {},
   "outputs": [
    {
     "data": {
      "text/plain": [
       "5"
      ]
     },
     "execution_count": 71,
     "metadata": {},
     "output_type": "execute_result"
    }
   ],
   "source": [
    "no_prices // 2 # floor divison"
   ]
  },
  {
   "cell_type": "code",
   "execution_count": 72,
   "id": "7bffd26a-051a-4e93-b062-46eb844dde06",
   "metadata": {},
   "outputs": [
    {
     "data": {
      "text/plain": [
       "45"
      ]
     },
     "execution_count": 72,
     "metadata": {},
     "output_type": "execute_result"
    }
   ],
   "source": [
    "prices[5]"
   ]
  },
  {
   "cell_type": "markdown",
   "id": "cf97fdec-6747-492c-a2c6-a94ca07dc9af",
   "metadata": {},
   "source": [
    "# Numpy has mean, median"
   ]
  },
  {
   "cell_type": "code",
   "execution_count": 73,
   "id": "e40b437c-1966-49b4-a1f9-227998eeb790",
   "metadata": {},
   "outputs": [
    {
     "data": {
      "text/plain": [
       "48.81818181818182"
      ]
     },
     "execution_count": 73,
     "metadata": {},
     "output_type": "execute_result"
    }
   ],
   "source": [
    "np.mean(prices)"
   ]
  },
  {
   "cell_type": "code",
   "execution_count": 74,
   "id": "1872826f-ad19-4f19-b19c-d97482efb578",
   "metadata": {},
   "outputs": [
    {
     "data": {
      "text/plain": [
       "45.0"
      ]
     },
     "execution_count": 74,
     "metadata": {},
     "output_type": "execute_result"
    }
   ],
   "source": [
    "np.median(prices)"
   ]
  },
  {
   "cell_type": "markdown",
   "id": "aae848fc-cc65-4ceb-83f8-8e07d72a979c",
   "metadata": {},
   "source": [
    "### Mode \n",
    "Scipy library has a method we can use"
   ]
  },
  {
   "cell_type": "code",
   "execution_count": 75,
   "id": "e4c27f6b-35fe-4e85-a83e-89d3ffd61a1b",
   "metadata": {},
   "outputs": [],
   "source": [
    "import scipy\n",
    "from scipy import stats"
   ]
  },
  {
   "cell_type": "code",
   "execution_count": 77,
   "id": "23a33e72-32f9-42ff-a9c6-fa4166c021e2",
   "metadata": {},
   "outputs": [
    {
     "name": "stdout",
     "output_type": "stream",
     "text": [
      "[12, 25, 29, 30, 34, 45, 56, 65, 68, 75, 98]\n",
      "ModeResult(mode=array([34]), count=array([2]))\n"
     ]
    }
   ],
   "source": [
    "print(prices)\n",
    "prices = [45, 56, 34, 98, 12, 30, 29, 68, 25, 75, 65, 34]\n",
    "# mode\n",
    "print(stats.mode(prices))"
   ]
  },
  {
   "cell_type": "markdown",
   "id": "18dcaae2-e00f-4302-ac6d-95af3a175d4e",
   "metadata": {},
   "source": [
    "# Read\n",
    "Variance\n",
    "\n",
    "Standard Deviation\n",
    "\n",
    "Percentiles"
   ]
  },
  {
   "cell_type": "code",
   "execution_count": null,
   "id": "51a4cec6-e5a4-4e9c-92a1-a4eed331b70e",
   "metadata": {},
   "outputs": [],
   "source": []
  }
 ],
 "metadata": {
  "kernelspec": {
   "display_name": "Python 3 (ipykernel)",
   "language": "python",
   "name": "python3"
  },
  "language_info": {
   "codemirror_mode": {
    "name": "ipython",
    "version": 3
   },
   "file_extension": ".py",
   "mimetype": "text/x-python",
   "name": "python",
   "nbconvert_exporter": "python",
   "pygments_lexer": "ipython3",
   "version": "3.9.7"
  }
 },
 "nbformat": 4,
 "nbformat_minor": 5
}
