{
 "cells": [
  {
   "cell_type": "code",
   "execution_count": 1,
   "id": "86b22302-513c-4bd0-95cf-a195e01ac4fa",
   "metadata": {},
   "outputs": [],
   "source": [
    "# Number types\n",
    "\n",
    "# int\n",
    "\n",
    "# float \n",
    "\n",
    "# complex"
   ]
  },
  {
   "cell_type": "code",
   "execution_count": 2,
   "id": "59e54abf-47ec-4066-9289-314c02a9cc6b",
   "metadata": {},
   "outputs": [],
   "source": [
    "#int \n",
    "\n",
    "age = 40\n",
    "\n",
    "amount = 1500"
   ]
  },
  {
   "cell_type": "code",
   "execution_count": 4,
   "id": "f64cb7f6-69f2-490d-af51-267dfb25703e",
   "metadata": {},
   "outputs": [
    {
     "name": "stdout",
     "output_type": "stream",
     "text": [
      "40\n",
      "<class 'int'>\n"
     ]
    }
   ],
   "source": [
    "print(age)\n",
    "print(type(age))"
   ]
  },
  {
   "cell_type": "code",
   "execution_count": 6,
   "id": "a244a3e3-28fc-4c04-8a0b-3df25d65cfbc",
   "metadata": {},
   "outputs": [
    {
     "name": "stdout",
     "output_type": "stream",
     "text": [
      "80\n"
     ]
    }
   ],
   "source": [
    "# arithmetic ops\n",
    "# addition \n",
    "print(age + age)"
   ]
  },
  {
   "cell_type": "code",
   "execution_count": 7,
   "id": "d2862c2b-a8a7-41bd-9012-c1117ca8bd42",
   "metadata": {},
   "outputs": [
    {
     "name": "stdout",
     "output_type": "stream",
     "text": [
      "1460\n"
     ]
    }
   ],
   "source": [
    "# subtraction\n",
    "\n",
    "print(amount - age)"
   ]
  },
  {
   "cell_type": "code",
   "execution_count": 8,
   "id": "09d48bf0-3ffa-46ce-856f-d9e8edcff329",
   "metadata": {},
   "outputs": [
    {
     "name": "stdout",
     "output_type": "stream",
     "text": [
      "37.5\n"
     ]
    }
   ],
   "source": [
    "# division\n",
    "\n",
    "print(amount / age)"
   ]
  },
  {
   "cell_type": "code",
   "execution_count": 9,
   "id": "747b53b8-ef09-480f-834c-4efd032fd809",
   "metadata": {},
   "outputs": [
    {
     "name": "stdout",
     "output_type": "stream",
     "text": [
      "80\n"
     ]
    }
   ],
   "source": [
    "# multiplication \n",
    "\n",
    "print(age * 2)"
   ]
  },
  {
   "cell_type": "code",
   "execution_count": 13,
   "id": "53561b1c-93f7-4b9d-bdc0-62deb4127352",
   "metadata": {},
   "outputs": [
    {
     "name": "stdout",
     "output_type": "stream",
     "text": [
      "40\n",
      "13.333333333333334\n",
      "remainder:  1\n"
     ]
    }
   ],
   "source": [
    "# division with remainder\n",
    "# modulo operator\n",
    "print(age)\n",
    "print(age / 3)\n",
    "print(\"remainder: \",age % 3)"
   ]
  },
  {
   "cell_type": "code",
   "execution_count": 14,
   "id": "dee9b606-3049-4def-b27d-63e4016cef99",
   "metadata": {},
   "outputs": [
    {
     "name": "stdout",
     "output_type": "stream",
     "text": [
      "3.142\n",
      "<class 'float'>\n"
     ]
    }
   ],
   "source": [
    "# float\n",
    "\n",
    "x = 3.142\n",
    "\n",
    "print(x)\n",
    "print(type(x))"
   ]
  },
  {
   "cell_type": "code",
   "execution_count": 15,
   "id": "b2595b8f-4db8-46d1-88f9-60c8e173885d",
   "metadata": {},
   "outputs": [
    {
     "name": "stdout",
     "output_type": "stream",
     "text": [
      "1j\n",
      "<class 'complex'>\n"
     ]
    }
   ],
   "source": [
    "# complex \n",
    "\n",
    "z = 1j\n",
    "\n",
    "print(z)\n",
    "print(type(z))"
   ]
  },
  {
   "cell_type": "markdown",
   "id": "f7c39f11-de8a-4f71-a0e7-10bf243c611d",
   "metadata": {},
   "source": [
    "### collection types"
   ]
  },
  {
   "cell_type": "markdown",
   "id": "9388fccf-8348-45c4-852b-5627ce291784",
   "metadata": {},
   "source": [
    "## lists "
   ]
  },
  {
   "cell_type": "code",
   "execution_count": 16,
   "id": "4e72d6da-047b-4cde-a29c-e67c48e559af",
   "metadata": {},
   "outputs": [],
   "source": [
    "# lists are used to store multiple items\n",
    "# in a single variable "
   ]
  },
  {
   "cell_type": "code",
   "execution_count": 17,
   "id": "e31e5a62-8509-4294-ba8e-17edb9713fb5",
   "metadata": {},
   "outputs": [],
   "source": [
    "fruits = ['apple','grape','cherry']"
   ]
  },
  {
   "cell_type": "code",
   "execution_count": 18,
   "id": "6f4725bc-5070-45cc-a326-afd8b38ee018",
   "metadata": {},
   "outputs": [
    {
     "name": "stdout",
     "output_type": "stream",
     "text": [
      "['apple', 'grape', 'cherry']\n",
      "<class 'list'>\n"
     ]
    }
   ],
   "source": [
    "print(fruits)\n",
    "print(type(fruits))"
   ]
  },
  {
   "cell_type": "code",
   "execution_count": 21,
   "id": "7d1b4cda-dbfe-45ea-86fa-5f3ec6eed9d2",
   "metadata": {},
   "outputs": [
    {
     "data": {
      "text/plain": [
       "'apple'"
      ]
     },
     "execution_count": 21,
     "metadata": {},
     "output_type": "execute_result"
    }
   ],
   "source": [
    "fruits[0]"
   ]
  },
  {
   "cell_type": "code",
   "execution_count": 24,
   "id": "7c2df354-bf62-4c55-bad6-4be18a2abb3f",
   "metadata": {},
   "outputs": [
    {
     "name": "stdout",
     "output_type": "stream",
     "text": [
      "apple grape cherry\n"
     ]
    }
   ],
   "source": [
    "print(fruits[0],fruits[1], fruits[2])"
   ]
  },
  {
   "cell_type": "code",
   "execution_count": 25,
   "id": "ce2d70d9-7ccb-401e-80bc-7d029468544d",
   "metadata": {},
   "outputs": [
    {
     "name": "stdout",
     "output_type": "stream",
     "text": [
      "<class 'str'>\n"
     ]
    }
   ],
   "source": [
    "print(type(fruits[0]))"
   ]
  },
  {
   "cell_type": "code",
   "execution_count": 26,
   "id": "204dffc1-13e0-43f7-9289-84ead461910f",
   "metadata": {},
   "outputs": [
    {
     "name": "stdout",
     "output_type": "stream",
     "text": [
      "3\n"
     ]
    }
   ],
   "source": [
    "# len method checks the number of items in the list\n",
    "print(len(fruits))"
   ]
  },
  {
   "cell_type": "code",
   "execution_count": 27,
   "id": "741ea7e5-0f1b-4350-8738-300492d1e7bf",
   "metadata": {},
   "outputs": [],
   "source": [
    "list2 = [1,2,3,4,5]\n",
    "\n",
    "list3 = [True, False, True]"
   ]
  },
  {
   "cell_type": "code",
   "execution_count": 28,
   "id": "6fd2db61-e77d-4ef3-809e-239fff680696",
   "metadata": {},
   "outputs": [],
   "source": [
    "# other \n",
    "list4 = [56, 34, 'james', 'joy']"
   ]
  },
  {
   "cell_type": "code",
   "execution_count": null,
   "id": "709e282c-fad5-4bfb-961c-efbfd3c1e5f6",
   "metadata": {},
   "outputs": [],
   "source": []
  }
 ],
 "metadata": {
  "kernelspec": {
   "display_name": "Python 3.10.6 64-bit",
   "language": "python",
   "name": "python3"
  },
  "language_info": {
   "codemirror_mode": {
    "name": "ipython",
    "version": 3
   },
   "file_extension": ".py",
   "mimetype": "text/x-python",
   "name": "python",
   "nbconvert_exporter": "python",
   "pygments_lexer": "ipython3",
   "version": "3.10.6"
  },
  "vscode": {
   "interpreter": {
    "hash": "8c9ae526718dfd6da3fbc835d39385f8c1c511d4c199b35eb98b0e568f9665fd"
   }
  }
 },
 "nbformat": 4,
 "nbformat_minor": 5
}
